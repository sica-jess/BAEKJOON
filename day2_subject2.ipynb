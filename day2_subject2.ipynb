{
  "nbformat": 4,
  "nbformat_minor": 0,
  "metadata": {
    "colab": {
      "provenance": [],
      "mount_file_id": "19hmHHCNM1FKmwiVVLD4_Bwoko0NgLRbG",
      "authorship_tag": "ABX9TyNNkOz9vrdkLQIEFNPLSpRl",
      "include_colab_link": true
    },
    "kernelspec": {
      "name": "python3",
      "display_name": "Python 3"
    },
    "language_info": {
      "name": "python"
    }
  },
  "cells": [
    {
      "cell_type": "markdown",
      "metadata": {
        "id": "view-in-github",
        "colab_type": "text"
      },
      "source": [
        "<a href=\"https://colab.research.google.com/github/sica-jess/BAEKJOON/blob/main/day2_subject2.ipynb\" target=\"_parent\"><img src=\"https://colab.research.google.com/assets/colab-badge.svg\" alt=\"Open In Colab\"/></a>"
      ]
    },
    {
      "cell_type": "code",
      "execution_count": null,
      "metadata": {
        "id": "el2O268I4HlN"
      },
      "outputs": [],
      "source": [
        "import pandas as pd\n",
        "from sklearn.metrics.pairwise import cosine_similarity"
      ]
    },
    {
      "cell_type": "code",
      "source": [
        "df=pd.read_csv(\"/content/drive/MyDrive/winemag-data-130k-v2.csv\")\n",
        "df"
      ],
      "metadata": {
        "colab": {
          "base_uri": "https://localhost:8080/",
          "height": 1000
        },
        "id": "QjIySbbm8e4i",
        "outputId": "51b33e89-3ec7-4cfe-fd7a-27414883e6a3"
      },
      "execution_count": null,
      "outputs": [
        {
          "output_type": "execute_result",
          "data": {
            "text/plain": [
              "        Unnamed: 0   country  \\\n",
              "0                0     Italy   \n",
              "1                1  Portugal   \n",
              "2                2        US   \n",
              "3                3        US   \n",
              "4                4        US   \n",
              "...            ...       ...   \n",
              "129966      129966   Germany   \n",
              "129967      129967        US   \n",
              "129968      129968    France   \n",
              "129969      129969    France   \n",
              "129970      129970    France   \n",
              "\n",
              "                                              description  \\\n",
              "0       Aromas include tropical fruit, broom, brimston...   \n",
              "1       This is ripe and fruity, a wine that is smooth...   \n",
              "2       Tart and snappy, the flavors of lime flesh and...   \n",
              "3       Pineapple rind, lemon pith and orange blossom ...   \n",
              "4       Much like the regular bottling from 2012, this...   \n",
              "...                                                   ...   \n",
              "129966  Notes of honeysuckle and cantaloupe sweeten th...   \n",
              "129967  Citation is given as much as a decade of bottl...   \n",
              "129968  Well-drained gravel soil gives this wine its c...   \n",
              "129969  A dry style of Pinot Gris, this is crisp with ...   \n",
              "129970  Big, rich and off-dry, this is powered by inte...   \n",
              "\n",
              "                                   designation  points  price  \\\n",
              "0                                 Vulkà Bianco      87    NaN   \n",
              "1                                     Avidagos      87   15.0   \n",
              "2                                          NaN      87   14.0   \n",
              "3                         Reserve Late Harvest      87   13.0   \n",
              "4           Vintner's Reserve Wild Child Block      87   65.0   \n",
              "...                                        ...     ...    ...   \n",
              "129966  Brauneberger Juffer-Sonnenuhr Spätlese      90   28.0   \n",
              "129967                                     NaN      90   75.0   \n",
              "129968                                   Kritt      90   30.0   \n",
              "129969                                     NaN      90   32.0   \n",
              "129970           Lieu-dit Harth Cuvée Caroline      90   21.0   \n",
              "\n",
              "                 province             region_1           region_2  \\\n",
              "0       Sicily & Sardinia                 Etna                NaN   \n",
              "1                   Douro                  NaN                NaN   \n",
              "2                  Oregon    Willamette Valley  Willamette Valley   \n",
              "3                Michigan  Lake Michigan Shore                NaN   \n",
              "4                  Oregon    Willamette Valley  Willamette Valley   \n",
              "...                   ...                  ...                ...   \n",
              "129966              Mosel                  NaN                NaN   \n",
              "129967             Oregon               Oregon       Oregon Other   \n",
              "129968             Alsace               Alsace                NaN   \n",
              "129969             Alsace               Alsace                NaN   \n",
              "129970             Alsace               Alsace                NaN   \n",
              "\n",
              "               taster_name taster_twitter_handle  \\\n",
              "0            Kerin O’Keefe          @kerinokeefe   \n",
              "1               Roger Voss            @vossroger   \n",
              "2             Paul Gregutt           @paulgwine    \n",
              "3       Alexander Peartree                   NaN   \n",
              "4             Paul Gregutt           @paulgwine    \n",
              "...                    ...                   ...   \n",
              "129966  Anna Lee C. Iijima                   NaN   \n",
              "129967        Paul Gregutt           @paulgwine    \n",
              "129968          Roger Voss            @vossroger   \n",
              "129969          Roger Voss            @vossroger   \n",
              "129970          Roger Voss            @vossroger   \n",
              "\n",
              "                                                    title         variety  \\\n",
              "0                       Nicosia 2013 Vulkà Bianco  (Etna)     White Blend   \n",
              "1           Quinta dos Avidagos 2011 Avidagos Red (Douro)  Portuguese Red   \n",
              "2           Rainstorm 2013 Pinot Gris (Willamette Valley)      Pinot Gris   \n",
              "3       St. Julian 2013 Reserve Late Harvest Riesling ...        Riesling   \n",
              "4       Sweet Cheeks 2012 Vintner's Reserve Wild Child...      Pinot Noir   \n",
              "...                                                   ...             ...   \n",
              "129966  Dr. H. Thanisch (Erben Müller-Burggraef) 2013 ...        Riesling   \n",
              "129967                  Citation 2004 Pinot Noir (Oregon)      Pinot Noir   \n",
              "129968  Domaine Gresser 2013 Kritt Gewurztraminer (Als...  Gewürztraminer   \n",
              "129969      Domaine Marcel Deiss 2012 Pinot Gris (Alsace)      Pinot Gris   \n",
              "129970  Domaine Schoffit 2012 Lieu-dit Harth Cuvée Car...  Gewürztraminer   \n",
              "\n",
              "                                          winery  \n",
              "0                                        Nicosia  \n",
              "1                            Quinta dos Avidagos  \n",
              "2                                      Rainstorm  \n",
              "3                                     St. Julian  \n",
              "4                                   Sweet Cheeks  \n",
              "...                                          ...  \n",
              "129966  Dr. H. Thanisch (Erben Müller-Burggraef)  \n",
              "129967                                  Citation  \n",
              "129968                           Domaine Gresser  \n",
              "129969                      Domaine Marcel Deiss  \n",
              "129970                          Domaine Schoffit  \n",
              "\n",
              "[129971 rows x 14 columns]"
            ],
            "text/html": [
              "\n",
              "\n",
              "  <div id=\"df-a8092f7e-dbfd-4f5b-9b08-af11e3b9c9f6\">\n",
              "    <div class=\"colab-df-container\">\n",
              "      <div>\n",
              "<style scoped>\n",
              "    .dataframe tbody tr th:only-of-type {\n",
              "        vertical-align: middle;\n",
              "    }\n",
              "\n",
              "    .dataframe tbody tr th {\n",
              "        vertical-align: top;\n",
              "    }\n",
              "\n",
              "    .dataframe thead th {\n",
              "        text-align: right;\n",
              "    }\n",
              "</style>\n",
              "<table border=\"1\" class=\"dataframe\">\n",
              "  <thead>\n",
              "    <tr style=\"text-align: right;\">\n",
              "      <th></th>\n",
              "      <th>Unnamed: 0</th>\n",
              "      <th>country</th>\n",
              "      <th>description</th>\n",
              "      <th>designation</th>\n",
              "      <th>points</th>\n",
              "      <th>price</th>\n",
              "      <th>province</th>\n",
              "      <th>region_1</th>\n",
              "      <th>region_2</th>\n",
              "      <th>taster_name</th>\n",
              "      <th>taster_twitter_handle</th>\n",
              "      <th>title</th>\n",
              "      <th>variety</th>\n",
              "      <th>winery</th>\n",
              "    </tr>\n",
              "  </thead>\n",
              "  <tbody>\n",
              "    <tr>\n",
              "      <th>0</th>\n",
              "      <td>0</td>\n",
              "      <td>Italy</td>\n",
              "      <td>Aromas include tropical fruit, broom, brimston...</td>\n",
              "      <td>Vulkà Bianco</td>\n",
              "      <td>87</td>\n",
              "      <td>NaN</td>\n",
              "      <td>Sicily &amp; Sardinia</td>\n",
              "      <td>Etna</td>\n",
              "      <td>NaN</td>\n",
              "      <td>Kerin O’Keefe</td>\n",
              "      <td>@kerinokeefe</td>\n",
              "      <td>Nicosia 2013 Vulkà Bianco  (Etna)</td>\n",
              "      <td>White Blend</td>\n",
              "      <td>Nicosia</td>\n",
              "    </tr>\n",
              "    <tr>\n",
              "      <th>1</th>\n",
              "      <td>1</td>\n",
              "      <td>Portugal</td>\n",
              "      <td>This is ripe and fruity, a wine that is smooth...</td>\n",
              "      <td>Avidagos</td>\n",
              "      <td>87</td>\n",
              "      <td>15.0</td>\n",
              "      <td>Douro</td>\n",
              "      <td>NaN</td>\n",
              "      <td>NaN</td>\n",
              "      <td>Roger Voss</td>\n",
              "      <td>@vossroger</td>\n",
              "      <td>Quinta dos Avidagos 2011 Avidagos Red (Douro)</td>\n",
              "      <td>Portuguese Red</td>\n",
              "      <td>Quinta dos Avidagos</td>\n",
              "    </tr>\n",
              "    <tr>\n",
              "      <th>2</th>\n",
              "      <td>2</td>\n",
              "      <td>US</td>\n",
              "      <td>Tart and snappy, the flavors of lime flesh and...</td>\n",
              "      <td>NaN</td>\n",
              "      <td>87</td>\n",
              "      <td>14.0</td>\n",
              "      <td>Oregon</td>\n",
              "      <td>Willamette Valley</td>\n",
              "      <td>Willamette Valley</td>\n",
              "      <td>Paul Gregutt</td>\n",
              "      <td>@paulgwine</td>\n",
              "      <td>Rainstorm 2013 Pinot Gris (Willamette Valley)</td>\n",
              "      <td>Pinot Gris</td>\n",
              "      <td>Rainstorm</td>\n",
              "    </tr>\n",
              "    <tr>\n",
              "      <th>3</th>\n",
              "      <td>3</td>\n",
              "      <td>US</td>\n",
              "      <td>Pineapple rind, lemon pith and orange blossom ...</td>\n",
              "      <td>Reserve Late Harvest</td>\n",
              "      <td>87</td>\n",
              "      <td>13.0</td>\n",
              "      <td>Michigan</td>\n",
              "      <td>Lake Michigan Shore</td>\n",
              "      <td>NaN</td>\n",
              "      <td>Alexander Peartree</td>\n",
              "      <td>NaN</td>\n",
              "      <td>St. Julian 2013 Reserve Late Harvest Riesling ...</td>\n",
              "      <td>Riesling</td>\n",
              "      <td>St. Julian</td>\n",
              "    </tr>\n",
              "    <tr>\n",
              "      <th>4</th>\n",
              "      <td>4</td>\n",
              "      <td>US</td>\n",
              "      <td>Much like the regular bottling from 2012, this...</td>\n",
              "      <td>Vintner's Reserve Wild Child Block</td>\n",
              "      <td>87</td>\n",
              "      <td>65.0</td>\n",
              "      <td>Oregon</td>\n",
              "      <td>Willamette Valley</td>\n",
              "      <td>Willamette Valley</td>\n",
              "      <td>Paul Gregutt</td>\n",
              "      <td>@paulgwine</td>\n",
              "      <td>Sweet Cheeks 2012 Vintner's Reserve Wild Child...</td>\n",
              "      <td>Pinot Noir</td>\n",
              "      <td>Sweet Cheeks</td>\n",
              "    </tr>\n",
              "    <tr>\n",
              "      <th>...</th>\n",
              "      <td>...</td>\n",
              "      <td>...</td>\n",
              "      <td>...</td>\n",
              "      <td>...</td>\n",
              "      <td>...</td>\n",
              "      <td>...</td>\n",
              "      <td>...</td>\n",
              "      <td>...</td>\n",
              "      <td>...</td>\n",
              "      <td>...</td>\n",
              "      <td>...</td>\n",
              "      <td>...</td>\n",
              "      <td>...</td>\n",
              "      <td>...</td>\n",
              "    </tr>\n",
              "    <tr>\n",
              "      <th>129966</th>\n",
              "      <td>129966</td>\n",
              "      <td>Germany</td>\n",
              "      <td>Notes of honeysuckle and cantaloupe sweeten th...</td>\n",
              "      <td>Brauneberger Juffer-Sonnenuhr Spätlese</td>\n",
              "      <td>90</td>\n",
              "      <td>28.0</td>\n",
              "      <td>Mosel</td>\n",
              "      <td>NaN</td>\n",
              "      <td>NaN</td>\n",
              "      <td>Anna Lee C. Iijima</td>\n",
              "      <td>NaN</td>\n",
              "      <td>Dr. H. Thanisch (Erben Müller-Burggraef) 2013 ...</td>\n",
              "      <td>Riesling</td>\n",
              "      <td>Dr. H. Thanisch (Erben Müller-Burggraef)</td>\n",
              "    </tr>\n",
              "    <tr>\n",
              "      <th>129967</th>\n",
              "      <td>129967</td>\n",
              "      <td>US</td>\n",
              "      <td>Citation is given as much as a decade of bottl...</td>\n",
              "      <td>NaN</td>\n",
              "      <td>90</td>\n",
              "      <td>75.0</td>\n",
              "      <td>Oregon</td>\n",
              "      <td>Oregon</td>\n",
              "      <td>Oregon Other</td>\n",
              "      <td>Paul Gregutt</td>\n",
              "      <td>@paulgwine</td>\n",
              "      <td>Citation 2004 Pinot Noir (Oregon)</td>\n",
              "      <td>Pinot Noir</td>\n",
              "      <td>Citation</td>\n",
              "    </tr>\n",
              "    <tr>\n",
              "      <th>129968</th>\n",
              "      <td>129968</td>\n",
              "      <td>France</td>\n",
              "      <td>Well-drained gravel soil gives this wine its c...</td>\n",
              "      <td>Kritt</td>\n",
              "      <td>90</td>\n",
              "      <td>30.0</td>\n",
              "      <td>Alsace</td>\n",
              "      <td>Alsace</td>\n",
              "      <td>NaN</td>\n",
              "      <td>Roger Voss</td>\n",
              "      <td>@vossroger</td>\n",
              "      <td>Domaine Gresser 2013 Kritt Gewurztraminer (Als...</td>\n",
              "      <td>Gewürztraminer</td>\n",
              "      <td>Domaine Gresser</td>\n",
              "    </tr>\n",
              "    <tr>\n",
              "      <th>129969</th>\n",
              "      <td>129969</td>\n",
              "      <td>France</td>\n",
              "      <td>A dry style of Pinot Gris, this is crisp with ...</td>\n",
              "      <td>NaN</td>\n",
              "      <td>90</td>\n",
              "      <td>32.0</td>\n",
              "      <td>Alsace</td>\n",
              "      <td>Alsace</td>\n",
              "      <td>NaN</td>\n",
              "      <td>Roger Voss</td>\n",
              "      <td>@vossroger</td>\n",
              "      <td>Domaine Marcel Deiss 2012 Pinot Gris (Alsace)</td>\n",
              "      <td>Pinot Gris</td>\n",
              "      <td>Domaine Marcel Deiss</td>\n",
              "    </tr>\n",
              "    <tr>\n",
              "      <th>129970</th>\n",
              "      <td>129970</td>\n",
              "      <td>France</td>\n",
              "      <td>Big, rich and off-dry, this is powered by inte...</td>\n",
              "      <td>Lieu-dit Harth Cuvée Caroline</td>\n",
              "      <td>90</td>\n",
              "      <td>21.0</td>\n",
              "      <td>Alsace</td>\n",
              "      <td>Alsace</td>\n",
              "      <td>NaN</td>\n",
              "      <td>Roger Voss</td>\n",
              "      <td>@vossroger</td>\n",
              "      <td>Domaine Schoffit 2012 Lieu-dit Harth Cuvée Car...</td>\n",
              "      <td>Gewürztraminer</td>\n",
              "      <td>Domaine Schoffit</td>\n",
              "    </tr>\n",
              "  </tbody>\n",
              "</table>\n",
              "<p>129971 rows × 14 columns</p>\n",
              "</div>\n",
              "      <button class=\"colab-df-convert\" onclick=\"convertToInteractive('df-a8092f7e-dbfd-4f5b-9b08-af11e3b9c9f6')\"\n",
              "              title=\"Convert this dataframe to an interactive table.\"\n",
              "              style=\"display:none;\">\n",
              "\n",
              "  <svg xmlns=\"http://www.w3.org/2000/svg\" height=\"24px\"viewBox=\"0 0 24 24\"\n",
              "       width=\"24px\">\n",
              "    <path d=\"M0 0h24v24H0V0z\" fill=\"none\"/>\n",
              "    <path d=\"M18.56 5.44l.94 2.06.94-2.06 2.06-.94-2.06-.94-.94-2.06-.94 2.06-2.06.94zm-11 1L8.5 8.5l.94-2.06 2.06-.94-2.06-.94L8.5 2.5l-.94 2.06-2.06.94zm10 10l.94 2.06.94-2.06 2.06-.94-2.06-.94-.94-2.06-.94 2.06-2.06.94z\"/><path d=\"M17.41 7.96l-1.37-1.37c-.4-.4-.92-.59-1.43-.59-.52 0-1.04.2-1.43.59L10.3 9.45l-7.72 7.72c-.78.78-.78 2.05 0 2.83L4 21.41c.39.39.9.59 1.41.59.51 0 1.02-.2 1.41-.59l7.78-7.78 2.81-2.81c.8-.78.8-2.07 0-2.86zM5.41 20L4 18.59l7.72-7.72 1.47 1.35L5.41 20z\"/>\n",
              "  </svg>\n",
              "      </button>\n",
              "\n",
              "\n",
              "\n",
              "    <div id=\"df-5f2e4ea5-ea68-4026-8c00-ce7ac8d98634\">\n",
              "      <button class=\"colab-df-quickchart\" onclick=\"quickchart('df-5f2e4ea5-ea68-4026-8c00-ce7ac8d98634')\"\n",
              "              title=\"Suggest charts.\"\n",
              "              style=\"display:none;\">\n",
              "\n",
              "<svg xmlns=\"http://www.w3.org/2000/svg\" height=\"24px\"viewBox=\"0 0 24 24\"\n",
              "     width=\"24px\">\n",
              "    <g>\n",
              "        <path d=\"M19 3H5c-1.1 0-2 .9-2 2v14c0 1.1.9 2 2 2h14c1.1 0 2-.9 2-2V5c0-1.1-.9-2-2-2zM9 17H7v-7h2v7zm4 0h-2V7h2v10zm4 0h-2v-4h2v4z\"/>\n",
              "    </g>\n",
              "</svg>\n",
              "      </button>\n",
              "    </div>\n",
              "\n",
              "<style>\n",
              "  .colab-df-quickchart {\n",
              "    background-color: #E8F0FE;\n",
              "    border: none;\n",
              "    border-radius: 50%;\n",
              "    cursor: pointer;\n",
              "    display: none;\n",
              "    fill: #1967D2;\n",
              "    height: 32px;\n",
              "    padding: 0 0 0 0;\n",
              "    width: 32px;\n",
              "  }\n",
              "\n",
              "  .colab-df-quickchart:hover {\n",
              "    background-color: #E2EBFA;\n",
              "    box-shadow: 0px 1px 2px rgba(60, 64, 67, 0.3), 0px 1px 3px 1px rgba(60, 64, 67, 0.15);\n",
              "    fill: #174EA6;\n",
              "  }\n",
              "\n",
              "  [theme=dark] .colab-df-quickchart {\n",
              "    background-color: #3B4455;\n",
              "    fill: #D2E3FC;\n",
              "  }\n",
              "\n",
              "  [theme=dark] .colab-df-quickchart:hover {\n",
              "    background-color: #434B5C;\n",
              "    box-shadow: 0px 1px 3px 1px rgba(0, 0, 0, 0.15);\n",
              "    filter: drop-shadow(0px 1px 2px rgba(0, 0, 0, 0.3));\n",
              "    fill: #FFFFFF;\n",
              "  }\n",
              "</style>\n",
              "\n",
              "    <script>\n",
              "      async function quickchart(key) {\n",
              "        const containerElement = document.querySelector('#' + key);\n",
              "        const charts = await google.colab.kernel.invokeFunction(\n",
              "            'suggestCharts', [key], {});\n",
              "      }\n",
              "    </script>\n",
              "\n",
              "      <script>\n",
              "\n",
              "function displayQuickchartButton(domScope) {\n",
              "  let quickchartButtonEl =\n",
              "    domScope.querySelector('#df-5f2e4ea5-ea68-4026-8c00-ce7ac8d98634 button.colab-df-quickchart');\n",
              "  quickchartButtonEl.style.display =\n",
              "    google.colab.kernel.accessAllowed ? 'block' : 'none';\n",
              "}\n",
              "\n",
              "        displayQuickchartButton(document);\n",
              "      </script>\n",
              "      <style>\n",
              "    .colab-df-container {\n",
              "      display:flex;\n",
              "      flex-wrap:wrap;\n",
              "      gap: 12px;\n",
              "    }\n",
              "\n",
              "    .colab-df-convert {\n",
              "      background-color: #E8F0FE;\n",
              "      border: none;\n",
              "      border-radius: 50%;\n",
              "      cursor: pointer;\n",
              "      display: none;\n",
              "      fill: #1967D2;\n",
              "      height: 32px;\n",
              "      padding: 0 0 0 0;\n",
              "      width: 32px;\n",
              "    }\n",
              "\n",
              "    .colab-df-convert:hover {\n",
              "      background-color: #E2EBFA;\n",
              "      box-shadow: 0px 1px 2px rgba(60, 64, 67, 0.3), 0px 1px 3px 1px rgba(60, 64, 67, 0.15);\n",
              "      fill: #174EA6;\n",
              "    }\n",
              "\n",
              "    [theme=dark] .colab-df-convert {\n",
              "      background-color: #3B4455;\n",
              "      fill: #D2E3FC;\n",
              "    }\n",
              "\n",
              "    [theme=dark] .colab-df-convert:hover {\n",
              "      background-color: #434B5C;\n",
              "      box-shadow: 0px 1px 3px 1px rgba(0, 0, 0, 0.15);\n",
              "      filter: drop-shadow(0px 1px 2px rgba(0, 0, 0, 0.3));\n",
              "      fill: #FFFFFF;\n",
              "    }\n",
              "  </style>\n",
              "\n",
              "      <script>\n",
              "        const buttonEl =\n",
              "          document.querySelector('#df-a8092f7e-dbfd-4f5b-9b08-af11e3b9c9f6 button.colab-df-convert');\n",
              "        buttonEl.style.display =\n",
              "          google.colab.kernel.accessAllowed ? 'block' : 'none';\n",
              "\n",
              "        async function convertToInteractive(key) {\n",
              "          const element = document.querySelector('#df-a8092f7e-dbfd-4f5b-9b08-af11e3b9c9f6');\n",
              "          const dataTable =\n",
              "            await google.colab.kernel.invokeFunction('convertToInteractive',\n",
              "                                                     [key], {});\n",
              "          if (!dataTable) return;\n",
              "\n",
              "          const docLinkHtml = 'Like what you see? Visit the ' +\n",
              "            '<a target=\"_blank\" href=https://colab.research.google.com/notebooks/data_table.ipynb>data table notebook</a>'\n",
              "            + ' to learn more about interactive tables.';\n",
              "          element.innerHTML = '';\n",
              "          dataTable['output_type'] = 'display_data';\n",
              "          await google.colab.output.renderOutput(dataTable, element);\n",
              "          const docLink = document.createElement('div');\n",
              "          docLink.innerHTML = docLinkHtml;\n",
              "          element.appendChild(docLink);\n",
              "        }\n",
              "      </script>\n",
              "    </div>\n",
              "  </div>\n"
            ]
          },
          "metadata": {},
          "execution_count": 11
        }
      ]
    },
    {
      "cell_type": "code",
      "source": [
        "df=df.head(5000)"
      ],
      "metadata": {
        "id": "09ZsHT8G9MVK"
      },
      "execution_count": null,
      "outputs": []
    },
    {
      "cell_type": "code",
      "source": [
        "df.isnull().sum(axis=0)"
      ],
      "metadata": {
        "colab": {
          "base_uri": "https://localhost:8080/"
        },
        "id": "5lLPCTQ5EcvJ",
        "outputId": "82f76412-5f78-48ff-b1e5-047f3f798d67"
      },
      "execution_count": 16,
      "outputs": [
        {
          "output_type": "execute_result",
          "data": {
            "text/plain": [
              "Unnamed: 0                  0\n",
              "country                     3\n",
              "description                 0\n",
              "designation              1477\n",
              "points                      0\n",
              "price                     343\n",
              "province                    3\n",
              "region_1                  792\n",
              "region_2                 3044\n",
              "taster_name              1031\n",
              "taster_twitter_handle    1206\n",
              "title                       0\n",
              "variety                     0\n",
              "winery                      0\n",
              "dtype: int64"
            ]
          },
          "metadata": {},
          "execution_count": 16
        }
      ]
    },
    {
      "cell_type": "code",
      "source": [
        "df['description']=df['description'].fillna('')"
      ],
      "metadata": {
        "colab": {
          "base_uri": "https://localhost:8080/"
        },
        "id": "v2yMW4I6Eikw",
        "outputId": "37d3f5a6-8295-4158-a78c-c364be76173b"
      },
      "execution_count": 18,
      "outputs": [
        {
          "output_type": "stream",
          "name": "stderr",
          "text": [
            "<ipython-input-18-e5e29d743f5c>:1: SettingWithCopyWarning: \n",
            "A value is trying to be set on a copy of a slice from a DataFrame.\n",
            "Try using .loc[row_indexer,col_indexer] = value instead\n",
            "\n",
            "See the caveats in the documentation: https://pandas.pydata.org/pandas-docs/stable/user_guide/indexing.html#returning-a-view-versus-a-copy\n",
            "  df['description']=df['description'].fillna('')\n"
          ]
        }
      ]
    },
    {
      "cell_type": "code",
      "source": [
        "df['description'].isnull().sum()"
      ],
      "metadata": {
        "colab": {
          "base_uri": "https://localhost:8080/"
        },
        "id": "FIG9PCkaEvAc",
        "outputId": "d0d1484c-a6d4-4ca9-e95b-e1508340e680"
      },
      "execution_count": 19,
      "outputs": [
        {
          "output_type": "execute_result",
          "data": {
            "text/plain": [
              "0"
            ]
          },
          "metadata": {},
          "execution_count": 19
        }
      ]
    },
    {
      "cell_type": "code",
      "source": [
        "df[\"description\"]"
      ],
      "metadata": {
        "colab": {
          "base_uri": "https://localhost:8080/"
        },
        "id": "i7Au5eFvAfY8",
        "outputId": "a248de96-1c20-44d0-ba1e-984f56a96edf"
      },
      "execution_count": null,
      "outputs": [
        {
          "output_type": "execute_result",
          "data": {
            "text/plain": [
              "0       Aromas include tropical fruit, broom, brimston...\n",
              "1       This is ripe and fruity, a wine that is smooth...\n",
              "2       Tart and snappy, the flavors of lime flesh and...\n",
              "3       Pineapple rind, lemon pith and orange blossom ...\n",
              "4       Much like the regular bottling from 2012, this...\n",
              "                              ...                        \n",
              "4995    Sweaty and pungent, loaded with overtones of c...\n",
              "4996    Here's a well-toasted red wine from Southern I...\n",
              "4997    Candied fruit and caramel ride on the back of ...\n",
              "4998    This Cabernet Sauvignon-Syrah blend is soft an...\n",
              "4999    Pungent, zesty and quite varietal in its expre...\n",
              "Name: description, Length: 5000, dtype: object"
            ]
          },
          "metadata": {},
          "execution_count": 13
        }
      ]
    },
    {
      "cell_type": "code",
      "source": [
        "import nltk\n",
        "from nltk.corpus import stopwords\n",
        "\n",
        "nltk.download('stopwords')\n",
        "stopwords.words('english')\n"
      ],
      "metadata": {
        "id": "EqfHvZ9XBVDQ",
        "colab": {
          "base_uri": "https://localhost:8080/"
        },
        "outputId": "e5d8dfdc-fe67-4c38-9daf-a32f3e99c565"
      },
      "execution_count": 21,
      "outputs": [
        {
          "output_type": "stream",
          "name": "stderr",
          "text": [
            "[nltk_data] Downloading package stopwords to /root/nltk_data...\n",
            "[nltk_data]   Package stopwords is already up-to-date!\n"
          ]
        },
        {
          "output_type": "execute_result",
          "data": {
            "text/plain": [
              "['i',\n",
              " 'me',\n",
              " 'my',\n",
              " 'myself',\n",
              " 'we',\n",
              " 'our',\n",
              " 'ours',\n",
              " 'ourselves',\n",
              " 'you',\n",
              " \"you're\",\n",
              " \"you've\",\n",
              " \"you'll\",\n",
              " \"you'd\",\n",
              " 'your',\n",
              " 'yours',\n",
              " 'yourself',\n",
              " 'yourselves',\n",
              " 'he',\n",
              " 'him',\n",
              " 'his',\n",
              " 'himself',\n",
              " 'she',\n",
              " \"she's\",\n",
              " 'her',\n",
              " 'hers',\n",
              " 'herself',\n",
              " 'it',\n",
              " \"it's\",\n",
              " 'its',\n",
              " 'itself',\n",
              " 'they',\n",
              " 'them',\n",
              " 'their',\n",
              " 'theirs',\n",
              " 'themselves',\n",
              " 'what',\n",
              " 'which',\n",
              " 'who',\n",
              " 'whom',\n",
              " 'this',\n",
              " 'that',\n",
              " \"that'll\",\n",
              " 'these',\n",
              " 'those',\n",
              " 'am',\n",
              " 'is',\n",
              " 'are',\n",
              " 'was',\n",
              " 'were',\n",
              " 'be',\n",
              " 'been',\n",
              " 'being',\n",
              " 'have',\n",
              " 'has',\n",
              " 'had',\n",
              " 'having',\n",
              " 'do',\n",
              " 'does',\n",
              " 'did',\n",
              " 'doing',\n",
              " 'a',\n",
              " 'an',\n",
              " 'the',\n",
              " 'and',\n",
              " 'but',\n",
              " 'if',\n",
              " 'or',\n",
              " 'because',\n",
              " 'as',\n",
              " 'until',\n",
              " 'while',\n",
              " 'of',\n",
              " 'at',\n",
              " 'by',\n",
              " 'for',\n",
              " 'with',\n",
              " 'about',\n",
              " 'against',\n",
              " 'between',\n",
              " 'into',\n",
              " 'through',\n",
              " 'during',\n",
              " 'before',\n",
              " 'after',\n",
              " 'above',\n",
              " 'below',\n",
              " 'to',\n",
              " 'from',\n",
              " 'up',\n",
              " 'down',\n",
              " 'in',\n",
              " 'out',\n",
              " 'on',\n",
              " 'off',\n",
              " 'over',\n",
              " 'under',\n",
              " 'again',\n",
              " 'further',\n",
              " 'then',\n",
              " 'once',\n",
              " 'here',\n",
              " 'there',\n",
              " 'when',\n",
              " 'where',\n",
              " 'why',\n",
              " 'how',\n",
              " 'all',\n",
              " 'any',\n",
              " 'both',\n",
              " 'each',\n",
              " 'few',\n",
              " 'more',\n",
              " 'most',\n",
              " 'other',\n",
              " 'some',\n",
              " 'such',\n",
              " 'no',\n",
              " 'nor',\n",
              " 'not',\n",
              " 'only',\n",
              " 'own',\n",
              " 'same',\n",
              " 'so',\n",
              " 'than',\n",
              " 'too',\n",
              " 'very',\n",
              " 's',\n",
              " 't',\n",
              " 'can',\n",
              " 'will',\n",
              " 'just',\n",
              " 'don',\n",
              " \"don't\",\n",
              " 'should',\n",
              " \"should've\",\n",
              " 'now',\n",
              " 'd',\n",
              " 'll',\n",
              " 'm',\n",
              " 'o',\n",
              " 're',\n",
              " 've',\n",
              " 'y',\n",
              " 'ain',\n",
              " 'aren',\n",
              " \"aren't\",\n",
              " 'couldn',\n",
              " \"couldn't\",\n",
              " 'didn',\n",
              " \"didn't\",\n",
              " 'doesn',\n",
              " \"doesn't\",\n",
              " 'hadn',\n",
              " \"hadn't\",\n",
              " 'hasn',\n",
              " \"hasn't\",\n",
              " 'haven',\n",
              " \"haven't\",\n",
              " 'isn',\n",
              " \"isn't\",\n",
              " 'ma',\n",
              " 'mightn',\n",
              " \"mightn't\",\n",
              " 'mustn',\n",
              " \"mustn't\",\n",
              " 'needn',\n",
              " \"needn't\",\n",
              " 'shan',\n",
              " \"shan't\",\n",
              " 'shouldn',\n",
              " \"shouldn't\",\n",
              " 'wasn',\n",
              " \"wasn't\",\n",
              " 'weren',\n",
              " \"weren't\",\n",
              " 'won',\n",
              " \"won't\",\n",
              " 'wouldn',\n",
              " \"wouldn't\"]"
            ]
          },
          "metadata": {},
          "execution_count": 21
        }
      ]
    },
    {
      "cell_type": "code",
      "source": [
        "from sklearn.feature_extraction.text import CountVectorizer, TfidfVectorizer"
      ],
      "metadata": {
        "id": "99YcNLTLDl_r"
      },
      "execution_count": 22,
      "outputs": []
    },
    {
      "cell_type": "code",
      "source": [
        "tfidf_vectorizer = TfidfVectorizer(stop_words='english', min_df=3)"
      ],
      "metadata": {
        "id": "99sXXu3mGQSR"
      },
      "execution_count": 23,
      "outputs": []
    },
    {
      "cell_type": "code",
      "source": [
        "tfidf=TfidfVectorizer(stop_words='english')"
      ],
      "metadata": {
        "id": "HjnaOi1THVG3"
      },
      "execution_count": 26,
      "outputs": []
    },
    {
      "cell_type": "code",
      "source": [
        "tfidf_m=tfidf.fit_transform(df['description'])\n",
        "tfidf_m.shape"
      ],
      "metadata": {
        "colab": {
          "base_uri": "https://localhost:8080/"
        },
        "id": "GxnwoQ1SIuyK",
        "outputId": "05fde85c-1cfd-40a7-ff08-12d4340b4b11"
      },
      "execution_count": 27,
      "outputs": [
        {
          "output_type": "execute_result",
          "data": {
            "text/plain": [
              "(5000, 8179)"
            ]
          },
          "metadata": {},
          "execution_count": 27
        }
      ]
    },
    {
      "cell_type": "code",
      "source": [
        "cos_sim=cosine_similarity(tfidf_m, tfidf_m)"
      ],
      "metadata": {
        "id": "4aOnfpdSJAvv"
      },
      "execution_count": 28,
      "outputs": []
    },
    {
      "cell_type": "code",
      "source": [
        "cos_sim.shape"
      ],
      "metadata": {
        "colab": {
          "base_uri": "https://localhost:8080/"
        },
        "id": "eDAYyKkwJCKc",
        "outputId": "8d684ca5-da0d-454d-d363-83fdd31564c4"
      },
      "execution_count": 29,
      "outputs": [
        {
          "output_type": "execute_result",
          "data": {
            "text/plain": [
              "(5000, 5000)"
            ]
          },
          "metadata": {},
          "execution_count": 29
        }
      ]
    },
    {
      "cell_type": "code",
      "source": [
        "cos_sim[0]"
      ],
      "metadata": {
        "colab": {
          "base_uri": "https://localhost:8080/"
        },
        "id": "MjiAp0Y5JW6B",
        "outputId": "07b3dfd2-250a-46e2-e555-d973e22279fe"
      },
      "execution_count": 30,
      "outputs": [
        {
          "output_type": "execute_result",
          "data": {
            "text/plain": [
              "array([1.        , 0.01185855, 0.0100552 , ..., 0.00739211, 0.        ,\n",
              "       0.02650395])"
            ]
          },
          "metadata": {},
          "execution_count": 30
        }
      ]
    },
    {
      "cell_type": "code",
      "source": [
        "df['title']\n",
        "df.index"
      ],
      "metadata": {
        "colab": {
          "base_uri": "https://localhost:8080/"
        },
        "id": "qK1-dWCOJ7P_",
        "outputId": "aefcd7bb-eb62-41e7-a60a-525e3e04ee16"
      },
      "execution_count": 31,
      "outputs": [
        {
          "output_type": "execute_result",
          "data": {
            "text/plain": [
              "RangeIndex(start=0, stop=5000, step=1)"
            ]
          },
          "metadata": {},
          "execution_count": 31
        }
      ]
    },
    {
      "cell_type": "code",
      "source": [
        "data=dict(zip(df['title'],df.index))\n",
        "i=data['Trump 2011 Sauvignon Blanc (Monticello)']\n",
        "print(i)"
      ],
      "metadata": {
        "colab": {
          "base_uri": "https://localhost:8080/"
        },
        "id": "CxN9NJ41J9fW",
        "outputId": "f907140d-606d-4474-fc9b-8099859eb42b"
      },
      "execution_count": 38,
      "outputs": [
        {
          "output_type": "stream",
          "name": "stdout",
          "text": [
            "48\n"
          ]
        }
      ]
    },
    {
      "cell_type": "code",
      "source": [
        "def recommend(t, cosine_sim=cos_sim): #t에는 제목 전달\n",
        "    idx=data[t]\n",
        "    sim_scores=list(enumerate(cosine_sim[idx]))\n",
        "    print(sim_scores)\n",
        "    ss=sorted(sim_scores, key=lambda x:x[1], reverse=True)\n",
        "    ss=ss[1:11]\n",
        "    print(ss)\n",
        "    res=[i[0] for i in ss]\n",
        "    print(res)\n",
        "    return df['title'].iloc[res]"
      ],
      "metadata": {
        "id": "-Iq-k-K0LP2D"
      },
      "execution_count": 42,
      "outputs": []
    },
    {
      "cell_type": "code",
      "source": [
        "recommend('Trump 2011 Sauvignon Blanc (Monticello)')"
      ],
      "metadata": {
        "colab": {
          "base_uri": "https://localhost:8080/"
        },
        "id": "kus5IuvjLV6e",
        "outputId": "ec4e847c-1878-47b7-96cc-d44cb4ac827d"
      },
      "execution_count": 44,
      "outputs": [
        {
          "output_type": "stream",
          "name": "stdout",
          "text": [
            "[(0, 0.016695358987715007), (1, 0.004329104897022945), (2, 0.003670772426954495), (3, 0.011653246037162102), (4, 0.03969845861956285), (5, 0.010459604230368985), (6, 0.017548573900942034), (7, 0.005797135710459014), (8, 0.0038940693547943515), (9, 0.03484451066886878), (10, 0.020395655847210023), (11, 0.009894276049050554), (12, 0.0041868068652946), (13, 0.044594223407652324), (14, 0.0025225560183396506), (15, 0.006504973984476731), (16, 0.02529399691507973), (17, 0.02346305547528538), (18, 0.01294391341297743), (19, 0.028471785380495638), (20, 0.012204871063167269), (21, 0.0031285228250028025), (22, 0.08488694649412067), (23, 0.007811175746297843), (24, 0.047258566955410565), (25, 0.02562451945069584), (26, 0.05149835856613121), (27, 0.014321337077744335), (28, 0.013909355727710362), (29, 0.04699011636270013), (30, 0.014968752484629748), (31, 0.03863054970547009), (32, 0.010240166410201309), (33, 0.02733271441853903), (34, 0.20537772348369016), (35, 0.02178426544573571), (36, 0.008888303554392164), (37, 0.017109892320140534), (38, 0.03026237605889809), (39, 0.0347293092641649), (40, 0.0), (41, 0.004344516361983496), (42, 0.051949357774928526), (43, 0.08338028592348772), (44, 0.009608256731264012), (45, 0.0026839187247937606), (46, 0.03134399354400831), (47, 0.006450347486287596), (48, 0.9999999999999999), (49, 0.01033747669662199), (50, 0.006573134179128165), (51, 0.008456560155366893), (52, 0.012429364956408577), (53, 0.068337522595955), (54, 0.007148696147186278), (55, 0.0220594126125494), (56, 0.03353192548390334), (57, 0.005563806066373626), (58, 0.02237386746690463), (59, 0.0061694911505237445), (60, 0.03739195581898676), (61, 0.01788266664394084), (62, 0.006269285862078349), (63, 0.0063411513247997224), (64, 0.023505795661825722), (65, 0.01011814415343151), (66, 0.005140525638708267), (67, 0.010672983959414406), (68, 0.08366602788288688), (69, 0.0035268813070822224), (70, 0.06015770802602348), (71, 0.021167358385181023), (72, 0.017018813552329058), (73, 0.0029021113748726817), (74, 0.011305082682393417), (75, 0.0), (76, 0.005629141808894709), (77, 0.04429056574653141), (78, 0.005920824946442926), (79, 0.004089751852087484), (80, 0.02354658910359675), (81, 0.00408847099048467), (82, 0.04223760072826628), (83, 0.05300410274811993), (84, 0.04857876269963321), (85, 0.0038575460018881887), (86, 0.02930022905332485), (87, 0.0), (88, 0.0179783192131613), (89, 0.01060608624339502), (90, 0.02884229156702247), (91, 0.02687871386702754), (92, 0.0033629387916584872), (93, 0.006502462268726699), (94, 0.06147919135300994), (95, 0.00872553366190977), (96, 0.007656864268033914), (97, 0.008039408127505566), (98, 0.014142540772891666), (99, 0.025153946862544588), (100, 0.0), (101, 0.00623505608077743), (102, 0.0055792858724384034), (103, 0.010881158907672075), (104, 0.038396198218286375), (105, 0.037135576753695665), (106, 0.03472056755355159), (107, 0.04669607716907086), (108, 0.04319461286095519), (109, 0.06367450057611866), (110, 0.009802233039464054), (111, 0.0033733019288153024), (112, 0.011976568976387993), (113, 0.035192768394429516), (114, 0.02593012303203295), (115, 0.0), (116, 0.034330310325823135), (117, 0.03264258175936886), (118, 0.029213308044668613), (119, 0.015908759076413127), (120, 0.03256707057048425), (121, 0.045891581189927866), (122, 0.017229013672797514), (123, 0.0), (124, 0.05380637429258228), (125, 0.006190811389136606), (126, 0.015644086683692177), (127, 0.047915995787513266), (128, 0.04085173652770102), (129, 0.03691994274294725), (130, 0.00863715298251519), (131, 0.08279332389131998), (132, 0.020682614888727253), (133, 0.007046913074195233), (134, 0.006007288033755381), (135, 0.009180679632452669), (136, 0.006618025130484193), (137, 0.028825574802832182), (138, 0.01385065100358204), (139, 0.024978044914681537), (140, 0.05908736511275061), (141, 0.042474341176490446), (142, 0.028564000786736113), (143, 0.011458768396515703), (144, 0.008103061718960327), (145, 0.04545903543560875), (146, 0.012559082816803731), (147, 0.007951301515732876), (148, 0.061547115389582296), (149, 0.004141444661497761), (150, 0.015586975679373163), (151, 0.029833387817726795), (152, 0.01778277037448479), (153, 0.002375150427197027), (154, 0.010123218298848631), (155, 0.006803941837179099), (156, 0.011525957938099178), (157, 0.01500907403171087), (158, 0.04613099919127656), (159, 0.03622012137215587), (160, 0.009046742445520001), (161, 0.019094841536238263), (162, 0.033662449832173334), (163, 0.005223004813992947), (164, 0.01783121168130073), (165, 0.004648056632497662), (166, 0.009557154314354478), (167, 0.024270057759747762), (168, 0.007029528495323046), (169, 0.0024410702128571608), (170, 0.023508056642389634), (171, 0.0), (172, 0.010128822283003554), (173, 0.014599431386583294), (174, 0.02882056107252512), (175, 0.06622756257956426), (176, 0.004589112925902992), (177, 0.0044586152567546375), (178, 0.004263718145225897), (179, 0.028587218598699782), (180, 0.02291857888454396), (181, 0.0036345975199243044), (182, 0.008983291858087102), (183, 0.027650558297602164), (184, 0.0), (185, 0.01901535777763409), (186, 0.00916975863789347), (187, 0.028525323835190186), (188, 0.006908777226202218), (189, 0.007388647160257679), (190, 0.006880880618907991), (191, 0.015554567329942981), (192, 0.02730513493980343), (193, 0.003591727560346153), (194, 0.010008036479678316), (195, 0.014335861497661279), (196, 0.04617832213945557), (197, 0.00533353730050537), (198, 0.010625494354452543), (199, 0.01240680197279476), (200, 0.011542621483724364), (201, 0.05059094169728586), (202, 0.017561920794494923), (203, 0.009240398849722869), (204, 0.02359262453801691), (205, 0.07631879781864497), (206, 0.0035928748876363314), (207, 0.007809034641905217), (208, 0.04125884442585191), (209, 0.01219749516611596), (210, 0.005793690311387746), (211, 0.0057070237988235606), (212, 0.027120951691442807), (213, 0.004427942220444671), (214, 0.00894067837260452), (215, 0.009869222749213351), (216, 0.010236474890213672), (217, 0.005649333382501283), (218, 0.028247913602416373), (219, 0.028820769085990478), (220, 0.009524977553405181), (221, 0.01128662133340396), (222, 0.038137101412476164), (223, 0.006319990733925783), (224, 0.0125730271963128), (225, 0.007105814728493089), (226, 0.011708436571363848), (227, 0.03193561231225076), (228, 0.013329512924865717), (229, 0.025424206146258416), (230, 0.035864542378447294), (231, 0.009401399303052399), (232, 0.024846792000605217), (233, 0.007529838262411126), (234, 0.00856395541164142), (235, 0.01590853618938498), (236, 0.0026799918500036977), (237, 0.011312863852691583), (238, 0.007907144484851919), (239, 0.006391331933338694), (240, 0.026364578351350716), (241, 0.0), (242, 0.0), (243, 0.012239750502618892), (244, 0.01606533787007566), (245, 0.044754128987483724), (246, 0.07689233853414885), (247, 0.0), (248, 0.024904154524692034), (249, 0.0), (250, 0.0), (251, 0.01104905141386388), (252, 0.0035513782832327988), (253, 0.003949220249901779), (254, 0.04659591267150824), (255, 0.027057360371767442), (256, 0.018865805743853794), (257, 0.014100127909604248), (258, 0.014402570401512688), (259, 0.023729086395674833), (260, 0.0), (261, 0.005983216719586148), (262, 0.00899839675741389), (263, 0.0), (264, 0.00851167262024818), (265, 0.02586304539141076), (266, 0.03931657062999677), (267, 0.010061457696032318), (268, 0.007660600442067519), (269, 0.013483444286075754), (270, 0.05550567555840227), (271, 0.07682098960550486), (272, 0.045072236932514984), (273, 0.048525035071356665), (274, 0.021286405567052743), (275, 0.010314247512333124), (276, 0.042330399853723846), (277, 0.0), (278, 0.028004578016495682), (279, 0.04549642497143147), (280, 0.05396502723248903), (281, 0.02964030560274395), (282, 0.06395880214995975), (283, 0.0298675616870842), (284, 0.004628495937323977), (285, 0.004364807945643415), (286, 0.004201810706834376), (287, 0.009448501736651505), (288, 0.03794018984865385), (289, 0.03978677250010718), (290, 0.0036781016467221585), (291, 0.015316311631578303), (292, 0.004285836579617842), (293, 0.023940225514224964), (294, 0.007132277034199619), (295, 0.006120162895444969), (296, 0.011356394249699107), (297, 0.0), (298, 0.010069575137219643), (299, 0.029462979694774884), (300, 0.0029945721865042765), (301, 0.004581227746114954), (302, 0.004674961124978058), (303, 0.013613931801489995), (304, 0.005323849726608622), (305, 0.0036898072773346915), (306, 0.011562934135729232), (307, 0.005579346110170963), (308, 0.057792723494341385), (309, 0.004757391105540084), (310, 0.03126738751104066), (311, 0.047186120005636066), (312, 0.003989274911330278), (313, 0.0030342151171310217), (314, 0.0), (315, 0.005812929529193549), (316, 0.06042116484715049), (317, 0.0035608864321062315), (318, 0.0163014717145863), (319, 0.012528901589875562), (320, 0.018644458068869073), (321, 0.04650489394259496), (322, 0.04557129362679019), (323, 0.014528946344988098), (324, 0.009834230742139315), (325, 0.127182042409492), (326, 0.004970418630018598), (327, 0.02530087700006576), (328, 0.06381995636731715), (329, 0.018391771033291978), (330, 0.0), (331, 0.0041616562420446375), (332, 0.004330376324663969), (333, 0.016859312582109244), (334, 0.03377256155718769), (335, 0.009394347774651283), (336, 0.03968411482189696), (337, 0.01017233513074108), (338, 0.011140808046913076), (339, 0.010066206216895348), (340, 0.017015005466497455), (341, 0.0039796155084002496), (342, 0.005936738420388181), (343, 0.10931362669460638), (344, 0.004028312621834663), (345, 0.005750382477505254), (346, 0.018185075780582385), (347, 0.021061449378452987), (348, 0.0), (349, 0.0), (350, 0.01178951397049776), (351, 0.019426385664025735), (352, 0.021793995646486153), (353, 0.00340025746247801), (354, 0.004510739869533974), (355, 0.004479734414987463), (356, 0.03485023521915416), (357, 0.025068200214417535), (358, 0.004045985655118712), (359, 0.005397967591675589), (360, 0.00941683695350468), (361, 0.005345904616469204), (362, 0.018386590248563265), (363, 0.00615821932405561), (364, 0.004064163521853083), (365, 0.006766692884872574), (366, 0.008573041064872706), (367, 0.01579932760246875), (368, 0.015305006865472155), (369, 0.02454633205647655), (370, 0.0), (371, 0.14974193451820264), (372, 0.0), (373, 0.1000387631318394), (374, 0.00879368469549043), (375, 0.004100563350263433), (376, 0.011578919370187117), (377, 0.015276179887245982), (378, 0.06328371549517608), (379, 0.005609180080339197), (380, 0.026543968382269065), (381, 0.007663965283299699), (382, 0.03511584026634799), (383, 0.0), (384, 0.01970260084193935), (385, 0.003793480235408328), (386, 0.005935763036800089), (387, 0.028861505596112613), (388, 0.00681067884889276), (389, 0.005259541407419662), (390, 0.011839891074212832), (391, 0.013404424933644639), (392, 0.004267636308635259), (393, 0.005476031686847284), (394, 0.011188094697682284), (395, 0.04448359355243962), (396, 0.006262248975112241), (397, 0.018188107048220485), (398, 0.023934417693961586), (399, 0.012726849878800755), (400, 0.020002296958570143), (401, 0.007686454715169461), (402, 0.03167001806604567), (403, 0.003334273079194157), (404, 0.0060365092624490345), (405, 0.009395545813236858), (406, 0.0047828882002685594), (407, 0.009740614345591684), (408, 0.04016022269146358), (409, 0.021055908554148885), (410, 0.03616456846780071), (411, 0.0), (412, 0.03711264448671879), (413, 0.028098441023071803), (414, 0.022812115177633777), (415, 0.04630450285788207), (416, 0.01157921728029743), (417, 0.049282203793959034), (418, 0.03113896243619187), (419, 0.0038285393623005647), (420, 0.030523540521818642), (421, 0.01587950220454052), (422, 0.030754532921160593), (423, 0.005780885007413793), (424, 0.03247277961401609), (425, 0.008216206364323898), (426, 0.012113426618400884), (427, 0.005548894323805479), (428, 0.04112986704335605), (429, 0.013560516215516563), (430, 0.03210018242112637), (431, 0.004285290904613081), (432, 0.006522577899915245), (433, 0.040890298055899076), (434, 0.0519912956282589), (435, 0.004803828475599608), (436, 0.05972194878253474), (437, 0.01818696252936048), (438, 0.006385246242931629), (439, 0.01132556520588155), (440, 0.01992182224763265), (441, 0.004988264473350442), (442, 0.00879088825906664), (443, 0.025984942359702393), (444, 0.0), (445, 0.013159841945146808), (446, 0.029449422523145558), (447, 0.019188641149255625), (448, 0.032612138024576735), (449, 0.005434169525126283), (450, 0.053064589237327625), (451, 0.009628147315403162), (452, 0.03680795191729051), (453, 0.0035315848575767014), (454, 0.0), (455, 0.015556250905001555), (456, 0.006434853822987674), (457, 0.0021970884621188326), (458, 0.004870730244639522), (459, 0.03617850973240913), (460, 0.0), (461, 0.0325841207093843), (462, 0.0035248322113614794), (463, 0.0315721568497555), (464, 0.016342040732713232), (465, 0.047892924309395485), (466, 0.0038854098485020766), (467, 0.006380481618338095), (468, 0.1129912276943385), (469, 0.0), (470, 0.0), (471, 0.003651672247319304), (472, 0.03231910267874594), (473, 0.020640277708931613), (474, 0.02022944035004308), (475, 0.017780092647143052), (476, 0.01903541733275421), (477, 0.012890985749371427), (478, 0.0050336614460588175), (479, 0.006810270147879151), (480, 0.01704998486713546), (481, 0.012459642500631973), (482, 0.0), (483, 0.015841936418531453), (484, 0.057475031169213056), (485, 0.0), (486, 0.031016277241198528), (487, 0.03613124875218387), (488, 0.0), (489, 0.0), (490, 0.09388515099867857), (491, 0.12193121427053626), (492, 0.005361363747196415), (493, 0.006933291326055032), (494, 0.01061278162934639), (495, 0.057144699509340535), (496, 0.02278224044080691), (497, 0.08802340073630154), (498, 0.0), (499, 0.005030734188457916), (500, 0.05601369002330503), (501, 0.019665195261181396), (502, 0.0), (503, 0.04042724485728613), (504, 0.005849421046366153), (505, 0.0), (506, 0.030289687986342746), (507, 0.026802994498923517), (508, 0.012771816541296999), (509, 0.02146446992663351), (510, 0.03680364573009501), (511, 0.01968550721376939), (512, 0.0), (513, 0.0064811007764821954), (514, 0.005483268743646269), (515, 0.026156158915082113), (516, 0.0031901886415047973), (517, 0.00372949051621164), (518, 0.012176167023603891), (519, 0.009565897239910385), (520, 0.010235403637448957), (521, 0.05146258203556256), (522, 0.028138393587377717), (523, 0.03792827234340604), (524, 0.007050061841495115), (525, 0.021790195529864026), (526, 0.02624880185262169), (527, 0.016151837981537836), (528, 0.04803943746538997), (529, 0.0028362779164500043), (530, 0.009790328111314053), (531, 0.016078525109689604), (532, 0.015971807740953876), (533, 0.07461928691096269), (534, 0.020239947814907566), (535, 0.03730583052304691), (536, 0.02545995982158751), (537, 0.025925847470749965), (538, 0.0028798140453259523), (539, 0.07663352436731298), (540, 0.026208656785564548), (541, 0.04399702243060855), (542, 0.0669001234981953), (543, 0.002827067864851942), (544, 0.01614838346322932), (545, 0.02811665112667773), (546, 0.02564907651049058), (547, 0.028474559183998886), (548, 0.0), (549, 0.00577824359531101), (550, 0.0027341115967764898), (551, 0.006584718787424147), (552, 0.018724941441018085), (553, 0.011207690188547476), (554, 0.00728392861612224), (555, 0.0196056081661942), (556, 0.004738731321995665), (557, 0.008158854600020232), (558, 0.009623633819049945), (559, 0.017673834571398775), (560, 0.005190018396675898), (561, 0.0031487718457597473), (562, 0.017734397511196393), (563, 0.02844027905925462), (564, 0.0250608219993802), (565, 0.0276340845605935), (566, 0.0), (567, 0.0290663332321527), (568, 0.009005303236013198), (569, 0.017663052694101653), (570, 0.03477666872919104), (571, 0.05462931723313468), (572, 0.005375158090956599), (573, 0.008938096655138488), (574, 0.005561967189472064), (575, 0.015386933540984707), (576, 0.011436345334024673), (577, 0.0), (578, 0.018895648499519305), (579, 0.043332497877816456), (580, 0.03956486253172536), (581, 0.012878761114411587), (582, 0.018427269685847163), (583, 0.022594459636163362), (584, 0.006161819234616497), (585, 0.04160253451887453), (586, 0.03029486514214628), (587, 0.005618131664356986), (588, 0.010055455831459252), (589, 0.011872199460270915), (590, 0.022988114524701682), (591, 0.013515817915814354), (592, 0.01478391240477394), (593, 0.05251229289016766), (594, 0.0), (595, 0.01242611920501853), (596, 0.0049518831848723195), (597, 0.006335278619323595), (598, 0.009145802346657558), (599, 0.0), (600, 0.0057327564210546845), (601, 0.12179379341943422), (602, 0.031701771540681205), (603, 0.004675872782890568), (604, 0.027178179686278725), (605, 0.028830816281921138), (606, 0.004803035558525872), (607, 0.007096754108730679), (608, 0.053004924628873976), (609, 0.0), (610, 0.0973476653321222), (611, 0.0), (612, 0.004510199943478892), (613, 0.0), (614, 0.0), (615, 0.007575687473480431), (616, 0.0), (617, 0.0), (618, 0.0), (619, 0.05660630907529278), (620, 0.0068016899619705185), (621, 0.0), (622, 0.0), (623, 0.0), (624, 0.018596765219418884), (625, 0.008959374170318354), (626, 0.029098981534940383), (627, 0.012046674019085756), (628, 0.03986666064936471), (629, 0.00880489537334933), (630, 0.002547371326430189), (631, 0.010367416077449879), (632, 0.0068931103549778085), (633, 0.03783428009960098), (634, 0.0021542135611984322), (635, 0.0486680002893699), (636, 0.014578723952246369), (637, 0.020759742592669116), (638, 0.010474850652118011), (639, 0.0044197971604982254), (640, 0.021993650329327118), (641, 0.0466121878721258), (642, 0.025441995506154808), (643, 0.038600078716696906), (644, 0.034112262817569766), (645, 0.052160604437643275), (646, 0.014242111463913468), (647, 0.02306759874432636), (648, 0.0), (649, 0.0068454794970164825), (650, 0.0572098767989937), (651, 0.04101515937330302), (652, 0.008602584954750313), (653, 0.037183471478506556), (654, 0.011098448417155165), (655, 0.02087082799223416), (656, 0.002849147527530535), (657, 0.01603688519515325), (658, 0.03583688331875691), (659, 0.02170127414249956), (660, 0.009637589330576284), (661, 0.0947732888227061), (662, 0.011127012521554725), (663, 0.011131417016828338), (664, 0.015822850228166624), (665, 0.01235313546643721), (666, 0.01294716942779401), (667, 0.005817434617429203), (668, 0.05477740878581064), (669, 0.016313353296265966), (670, 0.018070296531649883), (671, 0.022131156065585446), (672, 0.035981141178249236), (673, 0.01944441824480006), (674, 0.002655849960400463), (675, 0.003452986844326197), (676, 0.056167611865553684), (677, 0.011359664590177348), (678, 0.01611149712066884), (679, 0.014181515396605025), (680, 0.015306736268523326), (681, 0.015677163868076854), (682, 0.012326764652882178), (683, 0.031610446824937494), (684, 0.0039086785361872765), (685, 0.0024059484550793472), (686, 0.013435408941614702), (687, 0.0066889409648158964), (688, 0.008736100385757995), (689, 0.016284543181718535), (690, 0.01983821562692704), (691, 0.007627000237014389), (692, 0.012269649973093884), (693, 0.024292643194901823), (694, 0.04648632849952399), (695, 0.015492008923404774), (696, 0.06526070623228368), (697, 0.01036387128901754), (698, 0.024442782544862707), (699, 0.009328210772382495), (700, 0.004812157887078673), (701, 0.03336542719565737), (702, 0.02187967489489278), (703, 0.00896643888400537), (704, 0.03091286642756167), (705, 0.08770551521947463), (706, 0.009602559357531033), (707, 0.0035201983485600146), (708, 0.009810017698532542), (709, 0.03005949896102101), (710, 0.027575799755888378), (711, 0.01570445811738018), (712, 0.0), (713, 0.01505706635606149), (714, 0.01728550290850938), (715, 0.004772779654340107), (716, 0.012934790355732879), (717, 0.003245647180646123), (718, 0.03241909930925034), (719, 0.005212540678375255), (720, 0.012223090054849391), (721, 0.0057512168346686935), (722, 0.026301984710079454), (723, 0.008993227823137587), (724, 0.007018755949336538), (725, 0.016129837263374584), (726, 0.018068008693710388), (727, 0.006961302175647923), (728, 0.009208263714261606), (729, 0.00976358711565834), (730, 0.01071761075730989), (731, 0.0), (732, 0.013761042641391608), (733, 0.010385387372314453), (734, 0.009192717081815453), (735, 0.03835077550652991), (736, 0.027619719386695114), (737, 0.0048425415550974165), (738, 0.0315368661160118), (739, 0.046197395093129305), (740, 0.011289372438895929), (741, 0.008266300778811821), (742, 0.006477969535221804), (743, 0.03147215506997048), (744, 0.07654750667985658), (745, 0.0034897547781000174), (746, 0.01503826749913215), (747, 0.028581784636670094), (748, 0.009619969427019943), (749, 0.007072300663691516), (750, 0.0), (751, 0.05917727955637485), (752, 0.011190464644732995), (753, 0.06716246321645397), (754, 0.029605700687870065), (755, 0.0), (756, 0.0), (757, 0.010821706012351889), (758, 0.0), (759, 0.02268303232865472), (760, 0.007972958548522861), (761, 0.02857930753419545), (762, 0.010800293933161962), (763, 0.03969070765757775), (764, 0.027639698798571033), (765, 0.004467706256328999), (766, 0.0), (767, 0.01319511581007737), (768, 0.0), (769, 0.008984770036014382), (770, 0.027419211700175354), (771, 0.0035233911350456004), (772, 0.003138855024081441), (773, 0.009320599124080424), (774, 0.0), (775, 0.004120996722447898), (776, 0.006864112211916312), (777, 0.010155580282892426), (778, 0.04693989325942708), (779, 0.030955257569798403), (780, 0.11089505112487295), (781, 0.030402601492174976), (782, 0.0), (783, 0.0), (784, 0.009353710204443387), (785, 0.0035824622395148583), (786, 0.004686969639528743), (787, 0.008236025049242821), (788, 0.030986442052412074), (789, 0.026411547124957184), (790, 0.006166790431842743), (791, 0.016699236065853152), (792, 0.060420291447322375), (793, 0.04269960128277914), (794, 0.026635140073227086), (795, 0.00981367143109808), (796, 0.011902954389901164), (797, 0.03324247732292172), (798, 0.010747406257439458), (799, 0.005067400838795433), (800, 0.0030927313744242005), (801, 0.025071040853097307), (802, 0.008262109873718252), (803, 0.016204238320224888), (804, 0.011732855167772494), (805, 0.023904322343420818), (806, 0.03004606003063927), (807, 0.027570114721168215), (808, 0.051976177378931766), (809, 0.016674969889107466), (810, 0.008452703362190082), (811, 0.02016612277840148), (812, 0.021926920367829037), (813, 0.0), (814, 0.01264354903758693), (815, 0.0034501911087248776), (816, 0.006290226632294281), (817, 0.015742572296877328), (818, 0.0060745441364645335), (819, 0.009027054121074777), (820, 0.00460899817477088), (821, 0.01050243044652498), (822, 0.0), (823, 0.0), (824, 0.004104419596916397), (825, 0.04303288850979071), (826, 0.010546608319457394), (827, 0.03987499355857781), (828, 0.06838706226478336), (829, 0.061229177471833936), (830, 0.0), (831, 0.004276236539220765), (832, 0.03259049704663687), (833, 0.010124950202815352), (834, 0.013204718825025826), (835, 0.0), (836, 0.04794851556717259), (837, 0.0185661732137852), (838, 0.05543544596143354), (839, 0.0), (840, 0.004509361187973665), (841, 0.0), (842, 0.01093385005578447), (843, 0.022812853134025063), (844, 0.040392207554803994), (845, 0.010199102091461793), (846, 0.030003018778418544), (847, 0.01101663185125817), (848, 0.02823893989005709), (849, 0.00498605681768828), (850, 0.0038767798379535485), (851, 0.03958539608232841), (852, 0.007349950004701585), (853, 0.005434723312974775), (854, 0.028516327656678053), (855, 0.0025753919134109634), (856, 0.010891730453656283), (857, 0.00889531633321684), (858, 0.01871945646558038), (859, 0.007470892764126277), (860, 0.025041598915566537), (861, 0.006511593613611318), (862, 0.005992577505589495), (863, 0.007616858280631566), (864, 0.030662889099146044), (865, 0.07092678184739995), (866, 0.0), (867, 0.00865580856738897), (868, 0.006008216091993458), (869, 0.024883900399459855), (870, 0.003213856124964763), (871, 0.021972006527147626), (872, 0.0039541782446448), (873, 0.046677503815448995), (874, 0.031976773546700636), (875, 0.005947998526719744), (876, 0.025673556845499136), (877, 0.026223602814452327), (878, 0.01398676954377846), (879, 0.01192057941046111), (880, 0.003045134927467752), (881, 0.009532959553559865), (882, 0.0), (883, 0.025342786568253207), (884, 0.0029831876224220614), (885, 0.0), (886, 0.033925247174678284), (887, 0.01212188828585535), (888, 0.04851579578702889), (889, 0.0), (890, 0.04605450330867958), (891, 0.0), (892, 0.019440366563608646), (893, 0.03129456936306205), (894, 0.05893062536278634), (895, 0.0), (896, 0.025842722009305843), (897, 0.012286291312322053), (898, 0.011628623266944704), (899, 0.05116796802443953), (900, 0.01944081123884487), (901, 0.004602959956314105), (902, 0.020866135952462003), (903, 0.0), (904, 0.011769151766840374), (905, 0.006046159321032501), (906, 0.01607901971376447), (907, 0.012400488685108513), (908, 0.013372599729478619), (909, 0.020815351927672608), (910, 0.005240510277624469), (911, 0.011182014941491854), (912, 0.006006468326151157), (913, 0.038033929540272376), (914, 0.014646375180311637), (915, 0.012563484289881417), (916, 0.03205057014313553), (917, 0.011060766150568174), (918, 0.045496483409309195), (919, 0.025404440784674277), (920, 0.10734218215510635), (921, 0.0), (922, 0.01842096179709101), (923, 0.003540088278281251), (924, 0.03277037439036132), (925, 0.05543687290087058), (926, 0.004023263702118219), (927, 0.038053396436102116), (928, 0.005692467643163205), (929, 0.010170906631912353), (930, 0.056506300152200144), (931, 0.013795271800937396), (932, 0.008172981195380034), (933, 0.008920249285331446), (934, 0.013919164572466324), (935, 0.007294807477236578), (936, 0.02274105288479164), (937, 0.05874924364679221), (938, 0.005531991601565094), (939, 0.023411699275496037), (940, 0.02711547702541749), (941, 0.03625544372289131), (942, 0.028295889868585396), (943, 0.021413701967849155), (944, 0.0050194679079509676), (945, 0.028472086520822313), (946, 0.037700305300564806), (947, 0.004855784306483849), (948, 0.007787330049763254), (949, 0.005734213680316109), (950, 0.0033983161616099734), (951, 0.0041291660538426865), (952, 0.012193230029081048), (953, 0.02818326956137524), (954, 0.0059746379024475825), (955, 0.0048745711364701775), (956, 0.019690972477113582), (957, 0.0773937951429484), (958, 0.012331824288469094), (959, 0.003056618083754407), (960, 0.03370042433151733), (961, 0.020062138036035272), (962, 0.05808264653165991), (963, 0.03058798497187388), (964, 0.03212492301269478), (965, 0.008000370930791784), (966, 0.053883030548946255), (967, 0.016360511220367795), (968, 0.00773741812673206), (969, 0.014456441066771004), (970, 0.0), (971, 0.0), (972, 0.04330360163460823), (973, 0.008693256080082064), (974, 0.0), (975, 0.0038316106519300543), (976, 0.061986006908862454), (977, 0.0), (978, 0.10741076056366344), (979, 0.1406637244235625), (980, 0.019866156147213876), (981, 0.05088385974414989), (982, 0.010229208882054638), (983, 0.036824822978174764), (984, 0.0), (985, 0.012180403835526567), (986, 0.010621502599329351), (987, 0.013579494622520037), (988, 0.005397080596078014), (989, 0.013152721464640891), (990, 0.06672661942250434), (991, 0.03152351938815306), (992, 0.02965844252913819), (993, 0.055658216842151734), (994, 0.06451468233451996), (995, 0.03568126711267947), (996, 0.07554321049964133), (997, 0.024498748325696033), (998, 0.008329505469193182), (999, 0.05009646594154371), (1000, 0.04049068828174064), (1001, 0.0024706273101863774), (1002, 0.00987237543592807), (1003, 0.03235600715621723), (1004, 0.08236665678215835), (1005, 0.05779533962087241), (1006, 0.0030190516497642437), (1007, 0.004100207745843869), (1008, 0.049217938763261096), (1009, 0.03388610662767998), (1010, 0.02526759097092365), (1011, 0.031353658180976116), (1012, 0.03125050468210136), (1013, 0.014942792506006853), (1014, 0.009074858834918657), (1015, 0.017379900473059595), (1016, 0.012945464412922842), (1017, 0.013156151416229172), (1018, 0.01637496092155502), (1019, 0.01501614519639771), (1020, 0.005299565462216353), (1021, 0.004538910336914351), (1022, 0.0699766630723145), (1023, 0.01867021678277165), (1024, 0.026644725200289793), (1025, 0.10610178181006201), (1026, 0.0), (1027, 0.004598275682875034), (1028, 0.030070699961629907), (1029, 0.08498273610155846), (1030, 0.006560356297314528), (1031, 0.004449339498564341), (1032, 0.005688195722603965), (1033, 0.02211291872143639), (1034, 0.00470828202305049), (1035, 0.015145865153050737), (1036, 0.017025094818654708), (1037, 0.01673581371133622), (1038, 0.0), (1039, 0.0046275538372448355), (1040, 0.0), (1041, 0.003834238615672771), (1042, 0.01435914971183647), (1043, 0.024237076772732614), (1044, 0.009063633430663794), (1045, 0.003941713107925376), (1046, 0.026522402823336108), (1047, 0.0), (1048, 0.012225903531384696), (1049, 0.06232349865229268), (1050, 0.03590259640634638), (1051, 0.0035217283727995564), (1052, 0.0), (1053, 0.018993148576291134), (1054, 0.10896793763182634), (1055, 0.005413788997687329), (1056, 0.022694652904938932), (1057, 0.005250013318018367), (1058, 0.002918209010551941), (1059, 0.04063453689989084), (1060, 0.021404773473378023), (1061, 0.016508343639926697), (1062, 0.003106794122995231), (1063, 0.022308816880979673), (1064, 0.010768917580835518), (1065, 0.010718849023060327), (1066, 0.008583416756410972), (1067, 0.06338873002284119), (1068, 0.00392233459818087), (1069, 0.006294454462596915), (1070, 0.007065404714953306), (1071, 0.007676824489817279), (1072, 0.009525186314205892), (1073, 0.010869969818495747), (1074, 0.0030295454641805536), (1075, 0.0), (1076, 0.0), (1077, 0.004469492914832594), (1078, 0.01953970928183897), (1079, 0.059846083206524556), (1080, 0.004546144010010931), (1081, 0.014000185240936588), (1082, 0.02001485438282792), (1083, 0.00737327763327594), (1084, 0.041945624097531234), (1085, 0.0), (1086, 0.0), (1087, 0.03221307702489691), (1088, 0.007642572894083675), (1089, 0.017447888810306792), (1090, 0.00943001803288152), (1091, 0.006999251925791879), (1092, 0.027447641369864544), (1093, 0.0114124036249396), (1094, 0.02589301978480387), (1095, 0.004663084701354714), (1096, 0.03175864711554569), (1097, 0.022470884604288137), (1098, 0.0), (1099, 0.011674820520265562), (1100, 0.013352148595252786), (1101, 0.0), (1102, 0.021260004148986357), (1103, 0.06413624022379047), (1104, 0.008199101544359846), (1105, 0.03543357989178297), (1106, 0.004395409518753256), (1107, 0.008046033932617064), (1108, 0.00830704353753238), (1109, 0.028961491221654666), (1110, 0.029168715161799898), (1111, 0.0044444932256347495), (1112, 0.0), (1113, 0.05605572193714568), (1114, 0.009501449227672449), (1115, 0.024630277810563542), (1116, 0.012340122358112614), (1117, 0.002901066772496437), (1118, 0.04297622328680295), (1119, 0.028757186259512263), (1120, 0.014336728828822906), (1121, 0.005007314310403681), (1122, 0.004912745282164504), (1123, 0.01724349583526747), (1124, 0.017653432677797953), (1125, 0.04567155104953857), (1126, 0.00827712734925458), (1127, 0.018624893670427058), (1128, 0.009102264280118783), (1129, 0.010575479368084182), (1130, 0.005911497318003377), (1131, 0.016707091532797248), (1132, 0.009504709598655379), (1133, 0.011207500324390846), (1134, 0.011783310280700208), (1135, 0.006517572033216341), (1136, 0.004893177070852454), (1137, 0.0), (1138, 0.006930410971927803), (1139, 0.045186581566148715), (1140, 0.0029604685088336735), (1141, 0.005483243526190286), (1142, 0.04011890214231971), (1143, 0.03907401272423178), (1144, 0.020928964083856343), (1145, 0.04491393728097729), (1146, 0.011449163017322381), (1147, 0.011181954230251121), (1148, 0.005589915291730567), (1149, 0.01119945591444344), (1150, 0.005021089848135261), (1151, 0.008523341503142037), (1152, 0.006044795532388684), (1153, 0.03703133162289352), (1154, 0.02440099324154101), (1155, 0.0038884815387199637), (1156, 0.02219586660077568), (1157, 0.003272973043546502), (1158, 0.004156884633343532), (1159, 0.003634226350190987), (1160, 0.055729255129192024), (1161, 0.010750548488250092), (1162, 0.009181453444433094), (1163, 0.005384581161153322), (1164, 0.049897716032533304), (1165, 0.0), (1166, 0.029666736175758657), (1167, 0.049775198567307714), (1168, 0.0035372091850202), (1169, 0.03387568747326617), (1170, 0.030803749550875555), (1171, 0.006081591597766315), (1172, 0.028022518263347458), (1173, 0.024505587505858108), (1174, 0.018687450633222767), (1175, 0.0), (1176, 0.009843151378974315), (1177, 0.014279631010155797), (1178, 0.014442335357081426), (1179, 0.08777847342002146), (1180, 0.027751538335897635), (1181, 0.01069464062733124), (1182, 0.07720763957010894), (1183, 0.04519751137346241), (1184, 0.015608992746827978), (1185, 0.005103042008661855), (1186, 0.004234942129160305), (1187, 0.005638301827106071), (1188, 0.007855393336130313), (1189, 0.015534320490168589), (1190, 0.004502566610050651), (1191, 0.005051552950768519), (1192, 0.07161449948120417), (1193, 0.00608407558035874), (1194, 0.00936889777673346), (1195, 0.010052072550793425), (1196, 0.050348445895235495), (1197, 0.01149916639837063), (1198, 0.006359246086937306), (1199, 0.007688309857819255), (1200, 0.002765442392969974), (1201, 0.0038575610715361384), (1202, 0.00973546059263725), (1203, 0.040352013747996046), (1204, 0.015427284825154203), (1205, 0.011759358054667638), (1206, 0.07214852778918426), (1207, 0.02854045412823867), (1208, 0.009109014242545448), (1209, 0.0092219083463056), (1210, 0.0032808312290963006), (1211, 0.012771496581669803), (1212, 0.011058422285845065), (1213, 0.010140416613302713), (1214, 0.05032986536262648), (1215, 0.022386741542918615), (1216, 0.02977874660732658), (1217, 0.011006873163133299), (1218, 0.010088552145252332), (1219, 0.0034966900087845323), (1220, 0.017288223736820846), (1221, 0.009037850126385139), (1222, 0.0477749045232657), (1223, 0.011979735776250272), (1224, 0.005395682993275789), (1225, 0.07602069109455419), (1226, 0.038875935405673225), (1227, 0.025401623534299627), (1228, 0.020547018832519533), (1229, 0.021636799938091752), (1230, 0.03379098533471529), (1231, 0.007338464391727055), (1232, 0.004806763660803856), (1233, 0.0033744037183709693), (1234, 0.025767432173419196), (1235, 0.05952049557798669), (1236, 0.03854321440418832), (1237, 0.005438666550410266), (1238, 0.01944641279002724), (1239, 0.013974941439457565), (1240, 0.005830231594086795), (1241, 0.027816341454359093), (1242, 0.01215075983116989), (1243, 0.0049794871539550435), (1244, 0.007884538414782327), (1245, 0.07607770493003142), (1246, 0.0), (1247, 0.12464997850960466), (1248, 0.007907423412549124), (1249, 0.012421946617771556), (1250, 0.03524850859370301), (1251, 0.011244403062956338), (1252, 0.004749702300041261), (1253, 0.011806771586914335), (1254, 0.0), (1255, 0.01810952435695566), (1256, 0.0), (1257, 0.0020834835708364546), (1258, 0.009396948461645351), (1259, 0.026954358797515822), (1260, 0.04013800600163155), (1261, 0.03314438442115497), (1262, 0.03662640882740312), (1263, 0.005053351056924564), (1264, 0.0), (1265, 0.04431663211479561), (1266, 0.00578013220729914), (1267, 0.06013509597531448), (1268, 0.008615337902596942), (1269, 0.038095644644291445), (1270, 0.0034281513112352393), (1271, 0.02845306169591813), (1272, 0.105568854013886), (1273, 0.021766804861918253), (1274, 0.007906631043482798), (1275, 0.028930595447200214), (1276, 0.0), (1277, 0.09179887321235178), (1278, 0.0281467361273005), (1279, 0.0), (1280, 0.03018144868472539), (1281, 0.037866669597904225), (1282, 0.004743100814680866), (1283, 0.008302871717840655), (1284, 0.0108398040712455), (1285, 0.0108352872254187), (1286, 0.02101005295970889), (1287, 0.011238908571451517), (1288, 0.010382533604571743), (1289, 0.022183076780949208), (1290, 0.014283789167416334), (1291, 0.012695773024746372), (1292, 0.061526499746025906), (1293, 0.009795679616942317), (1294, 0.01086884290841591), (1295, 0.0109525014987537), (1296, 0.0939963215973887), (1297, 0.005514722213562876), (1298, 0.009515799523586799), (1299, 0.01366219125565524), (1300, 0.009344436017359747), (1301, 0.03259046162905352), (1302, 0.07106286039428929), (1303, 0.027748481474800905), (1304, 0.0), (1305, 0.025451485002911653), (1306, 0.011888312944064557), (1307, 0.008011250116104948), (1308, 0.006919131044539453), (1309, 0.023764545849179038), (1310, 0.023454222323043), (1311, 0.022070531910808627), (1312, 0.01669006693261391), (1313, 0.0), (1314, 0.02040728537813098), (1315, 0.013033926443853669), (1316, 0.010607175975455931), (1317, 0.009572511074028666), (1318, 0.009941986507349818), (1319, 0.09977981792177694), (1320, 0.013856298919810427), (1321, 0.009028178206723575), (1322, 0.015463110369542284), (1323, 0.03466570327550523), (1324, 0.010881495771077169), (1325, 0.0355744619462735), (1326, 0.026552463796396444), (1327, 0.005984002400745878), (1328, 0.023654618620765313), (1329, 0.005821353047030428), (1330, 0.014398835393895153), (1331, 0.006033907243577397), (1332, 0.005141611996011121), (1333, 0.0051102301040007216), (1334, 0.07041376243728983), (1335, 0.009385119069830304), (1336, 0.0), (1337, 0.0151273076557735), (1338, 0.02544848259320946), (1339, 0.003310804262788441), (1340, 0.016093243254621657), (1341, 0.01262650880394783), (1342, 0.0044129908775028814), (1343, 0.0), (1344, 0.034965485601147026), (1345, 0.06216664135482796), (1346, 0.034293932712748484), (1347, 0.014525579414454953), (1348, 0.029993844606270314), (1349, 0.0032617902589566357), (1350, 0.061300884703583775), (1351, 0.03083977441898799), (1352, 0.04524121638583317), (1353, 0.004141348170293327), (1354, 0.0), (1355, 0.0038474784223652705), (1356, 0.004454138319606215), (1357, 0.02931212271958855), (1358, 0.009809727839202908), (1359, 0.0), (1360, 0.0035835682263075353), (1361, 0.03209846949801854), (1362, 0.030242299077920927), (1363, 0.009478363635841102), (1364, 0.03183483401726642), (1365, 0.014205526583203742), (1366, 0.006210788358694843), (1367, 0.04058754106892163), (1368, 0.0), (1369, 0.012105794763031535), (1370, 0.0), (1371, 0.01896686843331208), (1372, 0.03671941439359511), (1373, 0.021881880706696492), (1374, 0.0), (1375, 0.03438359446461865), (1376, 0.0), (1377, 0.004701161886471812), (1378, 0.0), (1379, 0.033161543570571626), (1380, 0.036238960030647686), (1381, 0.0), (1382, 0.014215523512354269), (1383, 0.020653335070718364), (1384, 0.012871536576291248), (1385, 0.0), (1386, 0.010190577796607434), (1387, 0.012876287153889329), (1388, 0.0028870741863474213), (1389, 0.0053757391871496005), (1390, 0.004274401998692199), (1391, 0.012211223422302976), (1392, 0.034854607116982274), (1393, 0.054494275765463826), (1394, 0.01006016450987797), (1395, 0.008019890421752277), (1396, 0.034869770772109), (1397, 0.0), (1398, 0.0), (1399, 0.12818151338404096), (1400, 0.01958605518192775), (1401, 0.013868369732808597), (1402, 0.01940560807806221), (1403, 0.03657505765777225), (1404, 0.012687605056473652), (1405, 0.01625384107376494), (1406, 0.02117690437296197), (1407, 0.14361121318636294), (1408, 0.077787144082544), (1409, 0.0235449426540046), (1410, 0.03264865601211309), (1411, 0.00702443291265089), (1412, 0.030207549722584423), (1413, 0.005566600604390195), (1414, 0.009183157397888293), (1415, 0.004224990380747373), (1416, 0.0034350756587001054), (1417, 0.002840676987468746), (1418, 0.04510760241387162), (1419, 0.020174329967764408), (1420, 0.005010272034691468), (1421, 0.04040102550156821), (1422, 0.0041756025506575175), (1423, 0.0), (1424, 0.005593832298218204), (1425, 0.009747676083996262), (1426, 0.018867526113872567), (1427, 0.07615489637393318), (1428, 0.01713924290948437), (1429, 0.015072066871584515), (1430, 0.06098256917161392), (1431, 0.0031699870829799354), (1432, 0.0054851240433133105), (1433, 0.008480205222053274), (1434, 0.02102198035206951), (1435, 0.02368195633827155), (1436, 0.02221613559930382), (1437, 0.018940372602353782), (1438, 0.020862359075719795), (1439, 0.005574088628495005), (1440, 0.05364396409033304), (1441, 0.0), (1442, 0.0072364412497125385), (1443, 0.013242817260788093), (1444, 0.08536115220918088), (1445, 0.017833081809986218), (1446, 0.06281974006947516), (1447, 0.025771490800419558), (1448, 0.0), (1449, 0.026584281112229827), (1450, 0.009134406597612176), (1451, 0.011330511721965766), (1452, 0.03448062747020733), (1453, 0.006475908346182172), (1454, 0.03619689757603836), (1455, 0.003722601657464662), (1456, 0.0029161771673653783), (1457, 0.0043428028684179935), (1458, 0.011185726203953236), (1459, 0.029548938709750092), (1460, 0.009467040355127434), (1461, 0.022935701880808092), (1462, 0.047304565899164104), (1463, 0.0027399105916829053), (1464, 0.007403705429919422), (1465, 0.005339682612675695), (1466, 0.004729767341287088), (1467, 0.036682985197164675), (1468, 0.014564097512917158), (1469, 0.010797580979133688), (1470, 0.03227679067717836), (1471, 0.015175950591727477), (1472, 0.014613301198738615), (1473, 0.006603621458387419), (1474, 0.009999939719602426), (1475, 0.007868911248683526), (1476, 0.02397780883402012), (1477, 0.02082602136507517), (1478, 0.005367534924098218), (1479, 0.008916675904960404), (1480, 0.0683757797918388), (1481, 0.0), (1482, 0.010118559792848193), (1483, 0.009975880030477943), (1484, 0.11646833533406657), (1485, 0.07636634981974841), (1486, 0.026784432104287954), (1487, 0.0), (1488, 0.00953866802664751), (1489, 0.03449212645130083), (1490, 0.02092627575044723), (1491, 0.022725935505557335), (1492, 0.0), (1493, 0.06953213180845082), (1494, 0.003922817603113268), (1495, 0.024896869937404493), (1496, 0.009445270514534237), (1497, 0.004604386216552417), (1498, 0.010368417719945122), (1499, 0.008572251090917474), (1500, 0.06609776505018344), (1501, 0.0), (1502, 0.02002626363781847), (1503, 0.015186862018288411), (1504, 0.027592651014638824), (1505, 0.029939856681784595), (1506, 0.03247990162151984), (1507, 0.01366427491656441), (1508, 0.03144459303786962), (1509, 0.02129853053883979), (1510, 0.0787751981811968), (1511, 0.0022959985247046947), (1512, 0.0074449041546035015), (1513, 0.06838297841082877), (1514, 0.0), (1515, 0.03695567989513774), (1516, 0.03447575551881921), (1517, 0.029998688841182487), (1518, 0.010307285124706994), (1519, 0.006969763873537682), (1520, 0.04306019454541181), (1521, 0.026342562318057205), (1522, 0.042396183261044856), (1523, 0.004874308642020447), (1524, 0.014274971923424638), (1525, 0.01611338556381908), (1526, 0.016179714771648347), (1527, 0.009832859383483291), (1528, 0.004742955362468719), (1529, 0.005902587139812397), (1530, 0.019753577265696598), (1531, 0.012293946354684336), (1532, 0.014255756147990645), (1533, 0.009581925185230754), (1534, 0.0654912141168015), (1535, 0.0297596428867856), (1536, 0.020430984482564626), (1537, 0.012009396412118041), (1538, 0.006679004032155743), (1539, 0.004220494781302327), (1540, 0.017855441541245357), (1541, 0.00909362833765516), (1542, 0.007737139880962509), (1543, 0.06390344755885562), (1544, 0.008661358283249421), (1545, 0.06034206509015721), (1546, 0.011922982677861505), (1547, 0.009191319460978153), (1548, 0.0158841851342301), (1549, 0.0052977444755336065), (1550, 0.006282293480621724), (1551, 0.03124812738126806), (1552, 0.05063679203196044), (1553, 0.011680438927530373), (1554, 0.025561937683981475), (1555, 0.04560093220270431), (1556, 0.02030439592543372), (1557, 0.010327905148973143), (1558, 0.06072171271395461), (1559, 0.011169787699737517), (1560, 0.018803440357018534), (1561, 0.0028115129571373437), (1562, 0.007029271813257913), (1563, 0.01649873669741118), (1564, 0.01567875771190006), (1565, 0.026286942789214923), (1566, 0.013441965089571373), (1567, 0.0022445051403435206), (1568, 0.06137098433619661), (1569, 0.028878957642127383), (1570, 0.0190500093602477), (1571, 0.009569815546082144), (1572, 0.00770667198359995), (1573, 0.006990623553526582), (1574, 0.01552839649828838), (1575, 0.05745527373161163), (1576, 0.01379426483022702), (1577, 0.002406996984593609), (1578, 0.05415242322016225), (1579, 0.0), (1580, 0.00424340175769072), (1581, 0.012151564520075514), (1582, 0.0027809233993319107), (1583, 0.007493839630869261), (1584, 0.01706656633172374), (1585, 0.008691413682543838), (1586, 0.004667864377250212), (1587, 0.02958352088503979), (1588, 0.019239363878725314), (1589, 0.02686934343279743), (1590, 0.0036930315941054435), (1591, 0.0), (1592, 0.004862796697271792), (1593, 0.02890436189388329), (1594, 0.03260359606810285), (1595, 0.008617300577832143), (1596, 0.014962359019179989), (1597, 0.0075942621270015), (1598, 0.02163083017368644), (1599, 0.0042017594238330435), (1600, 0.011222299574081877), (1601, 0.0055570769977132395), (1602, 0.03432272603616545), (1603, 0.01192583575765091), (1604, 0.012073914542725378), (1605, 0.01155668174015433), (1606, 0.015878794871886405), (1607, 0.05027567339502156), (1608, 0.015050524067846759), (1609, 0.0069740103908475055), (1610, 0.009149605073955869), (1611, 0.01059642457395192), (1612, 0.035791564894523425), (1613, 0.004160308207478181), (1614, 0.0), (1615, 0.0), (1616, 0.005912760058452812), (1617, 0.004907425732277886), (1618, 0.012911227347195535), (1619, 0.01176573958080601), (1620, 0.004515623067141264), (1621, 0.04602080353012086), (1622, 0.011405211566933566), (1623, 0.012810080354227173), (1624, 0.006779423234043453), (1625, 0.01134076755542033), (1626, 0.04356860140113382), (1627, 0.04286462873401664), (1628, 0.012148819677313552), (1629, 0.0039833941712787806), (1630, 0.04819777022801598), (1631, 0.02503734475852208), (1632, 0.01086263202438009), (1633, 0.012264523283674354), (1634, 0.02624646564113103), (1635, 0.009729074638194883), (1636, 0.028104916754844906), (1637, 0.006726691725661216), (1638, 0.018104209185812712), (1639, 0.01153846059334853), (1640, 0.0031203262575099358), (1641, 0.010304833293989436), (1642, 0.011945909541153425), (1643, 0.004103734746666195), (1644, 0.013724920533715896), (1645, 0.023635608643927074), (1646, 0.025260285189110974), (1647, 0.0037153262472968437), (1648, 0.013860683611397853), (1649, 0.0822018420301931), (1650, 0.03007660912800894), (1651, 0.03454715941414324), (1652, 0.010763850157723059), (1653, 0.011439414877439375), (1654, 0.04444278722675031), (1655, 0.024367444314629404), (1656, 0.009045886276506312), (1657, 0.028913403765579233), (1658, 0.003976862880915738), (1659, 0.019795443555320386), (1660, 0.0177939704061833), (1661, 0.020261709451925167), (1662, 0.0156947987544951), (1663, 0.0063226496329357425), (1664, 0.026349990069016387), (1665, 0.03246872102609365), (1666, 0.0), (1667, 0.027991263114300738), (1668, 0.015143213874989465), (1669, 0.0052606275875141904), (1670, 0.010340441810936034), (1671, 0.008810940978385577), (1672, 0.018755384066550026), (1673, 0.00343810409608538), (1674, 0.01983850368116103), (1675, 0.043860593338651485), (1676, 0.0), (1677, 0.0037316660032072), (1678, 0.015268523421281415), (1679, 0.0), (1680, 0.038226364689571204), (1681, 0.009023405469057754), (1682, 0.0), (1683, 0.013314615651832484), (1684, 0.03866363802461703), (1685, 0.04552600078535282), (1686, 0.03545213650046715), (1687, 0.028141325106847886), (1688, 0.01780959914781029), (1689, 0.0), (1690, 0.01006251423069521), (1691, 0.0), (1692, 0.05037705927028727), (1693, 0.01167548519540892), (1694, 0.015795935603281352), (1695, 0.03659387218098998), (1696, 0.035394938472372586), (1697, 0.0), (1698, 0.008345944459331553), (1699, 0.006578552704434078), (1700, 0.012209672429611493), (1701, 0.008206333034282188), (1702, 0.08346000489870405), (1703, 0.08883417440690868), (1704, 0.017140903372711916), (1705, 0.011690845608947818), (1706, 0.005826956727625443), (1707, 0.0), (1708, 0.02463293692312233), (1709, 0.0031813591920703734), (1710, 0.005144313737941006), (1711, 0.012183038610444622), (1712, 0.016919557555490582), (1713, 0.0), (1714, 0.012815969106364818), (1715, 0.0), (1716, 0.02130217840773499), (1717, 0.004483652911661723), (1718, 0.03838239158341126), (1719, 0.01837798347817602), (1720, 0.0), (1721, 0.0032931550520386263), (1722, 0.021595941014526294), (1723, 0.0), (1724, 0.006505215090448671), (1725, 0.03023728458616741), (1726, 0.008527332556916855), (1727, 0.003675131808420554), (1728, 0.007581842978588842), (1729, 0.011243641558368826), (1730, 0.04523483677300973), (1731, 0.011884339786066265), (1732, 0.010161008338919014), (1733, 0.006585696621423047), (1734, 0.010885839093470004), (1735, 0.02137344041462244), (1736, 0.006279079232260381), (1737, 0.03510103913446601), (1738, 0.010148511771937534), (1739, 0.011449228795492764), (1740, 0.00969358809807819), (1741, 0.0024323817121036737), (1742, 0.02437899114745103), (1743, 0.011174757371009201), (1744, 0.013458260780942905), (1745, 0.03062640342435935), (1746, 0.009802179550548382), (1747, 0.010923268005171599), (1748, 0.005957045627338105), (1749, 0.008282096566775072), (1750, 0.0223683074365597), (1751, 0.0045144635829721495), (1752, 0.024221420572180977), (1753, 0.01649092419990051), (1754, 0.003765231075878363), (1755, 0.0057573705290250715), (1756, 0.00813227537307376), (1757, 0.036964735857173865), (1758, 0.023318691833170795), (1759, 0.01034169794363959), (1760, 0.04301257308204692), (1761, 0.0), (1762, 0.0038708577924183277), (1763, 0.00307852028033446), (1764, 0.015430102944688329), (1765, 0.04237142776284577), (1766, 0.018016032522137022), (1767, 0.012628597474050002), (1768, 0.017218931397428253), (1769, 0.006576532754060644), (1770, 0.0022233230193500434), (1771, 0.039601915809947916), (1772, 0.005588082037016636), (1773, 0.007581446989500441), (1774, 0.03963542370888321), (1775, 0.002276298364408553), (1776, 0.006679360380696744), (1777, 0.03647387699592868), (1778, 0.02240923067170266), (1779, 0.03595284275956766), (1780, 0.002493162674350773), (1781, 0.03989016373378207), (1782, 0.010367152535522088), (1783, 0.0037950416165700883), (1784, 0.05177189155495111), (1785, 0.014830414694102073), (1786, 0.002645353154907142), (1787, 0.003976414408989708), (1788, 0.002481624896993127), (1789, 0.008606191000252814), (1790, 0.005223614383595455), (1791, 0.0), (1792, 0.005598650077550382), (1793, 0.018929963190623435), (1794, 0.02957265580773492), (1795, 0.004400128461525107), (1796, 0.006300098070361273), (1797, 0.013069810113404329), (1798, 0.011434006687709164), (1799, 0.014135986656817043), (1800, 0.008650733108525505), (1801, 0.026500549822736204), (1802, 0.008299677928781614), (1803, 0.004965263745830469), (1804, 0.005188402596650854), (1805, 0.00811646182204322), (1806, 0.004378342110265252), (1807, 0.03135387796493844), (1808, 0.01632590050846853), (1809, 0.004797797127937735), (1810, 0.09986389236576097), (1811, 0.0733433650602747), (1812, 0.003914694083815919), (1813, 0.08776935073763066), (1814, 0.055475283217589245), (1815, 0.0124340018585725), (1816, 0.04487754006332291), (1817, 0.009891203114549437), (1818, 0.003297212210422222), (1819, 0.003824389790442653), (1820, 0.020514276766400368), (1821, 0.08994653357719937), (1822, 0.010184630737519802), (1823, 0.039426917039727644), (1824, 0.004138485930501295), (1825, 0.031222660646532938), (1826, 0.014210806698556528), (1827, 0.009452751191810778), (1828, 0.01044496243327765), (1829, 0.010717608131452575), (1830, 0.030651627091331613), (1831, 0.003835683816964506), (1832, 0.005858057861351089), (1833, 0.005226140851124013), (1834, 0.0070943677698916165), (1835, 0.005325662377492962), (1836, 0.007921899402693604), (1837, 0.005705512089441065), (1838, 0.0032387659394005094), (1839, 0.008823806358763564), (1840, 0.012799319037978077), (1841, 0.031757368424953566), (1842, 0.09953999560267236), (1843, 0.011279792745140346), (1844, 0.005213194908830517), (1845, 0.009188239995883214), (1846, 0.0), (1847, 0.011870583573081385), (1848, 0.05263767563332786), (1849, 0.005521927593080579), (1850, 0.008760407850587012), (1851, 0.01219162513189131), (1852, 0.017997676278479), (1853, 0.02059189913996769), (1854, 0.0045584338020196015), (1855, 0.047572557511614134), (1856, 0.007827008261598805), (1857, 0.009389767154717375), (1858, 0.006870785165140682), (1859, 0.014519117386278858), (1860, 0.012013070893960146), (1861, 0.007245496796702425), (1862, 0.011884223129815444), (1863, 0.015233016879297944), (1864, 0.023530453475151383), (1865, 0.03166115713427907), (1866, 0.005149246389568021), (1867, 0.0), (1868, 0.018262467977540775), (1869, 0.02144333232915463), (1870, 0.03980500024748137), (1871, 0.016024827183501244), (1872, 0.04346461389663618), (1873, 0.0032736530473572722), (1874, 0.01448172946196919), (1875, 0.033038885409206915), (1876, 0.013999908904613546), (1877, 0.030747343238834258), (1878, 0.0026980798793233432), (1879, 0.0032457196933528437), (1880, 0.004762358889805484), (1881, 0.0035819372031097255), (1882, 0.005050884165471027), (1883, 0.0), (1884, 0.00356716846325996), (1885, 0.0366822110455159), (1886, 0.0), (1887, 0.0), (1888, 0.0028026893098079837), (1889, 0.003968864342062597), (1890, 0.011869997993748337), (1891, 0.0033576137033902637), (1892, 0.010712868666094028), (1893, 0.02050921352712523), (1894, 0.0028700739055617865), (1895, 0.024307387448783854), (1896, 0.0042879727396940275), (1897, 0.006564266734238687), (1898, 0.03686346118039573), (1899, 0.013132515064734021), (1900, 0.019631092650927835), (1901, 0.0), (1902, 0.00738147990413396), (1903, 0.020039182841584784), (1904, 0.04519830577436368), (1905, 0.0027563306335850186), (1906, 0.006244176644505814), (1907, 0.033738365213849486), (1908, 0.014344107818948456), (1909, 0.003037106149732059), (1910, 0.0), (1911, 0.029689426122469505), (1912, 0.0030934244059280555), (1913, 0.005815317329695347), (1914, 0.020375581411250586), (1915, 0.017536034207079613), (1916, 0.03661170863520891), (1917, 0.033481731267008985), (1918, 0.016632895733787442), (1919, 0.011561411548174671), (1920, 0.010128153070443282), (1921, 0.005148352616338677), (1922, 0.011249622890995691), (1923, 0.0), (1924, 0.005284628721973174), (1925, 0.020363868574185588), (1926, 0.012335544260853636), (1927, 0.013923634909242137), (1928, 0.012691998049699714), (1929, 0.0), (1930, 0.0), (1931, 0.0639017353836409), (1932, 0.029990712606251704), (1933, 0.01672210612990336), (1934, 0.011256149327541976), (1935, 0.009945482869552134), (1936, 0.0), (1937, 0.009221615677384772), (1938, 0.00952341690090748), (1939, 0.037304361056155554), (1940, 0.02590014595921149), (1941, 0.007555034829160683), (1942, 0.03154502478588137), (1943, 0.0), (1944, 0.012126675511715108), (1945, 0.0), (1946, 0.01793241457969256), (1947, 0.025397271081216824), (1948, 0.0), (1949, 0.010635461310379709), (1950, 0.0053342724556256155), (1951, 0.032554675753388454), (1952, 0.003898642244858618), (1953, 0.004776612043147346), (1954, 0.013750906675271707), (1955, 0.008103651796748547), (1956, 0.006109662641954532), (1957, 0.0), (1958, 0.04039973974836655), (1959, 0.14319831541221129), (1960, 0.04014023836317524), (1961, 0.0), (1962, 0.0), (1963, 0.0), (1964, 0.0073822581543566395), (1965, 0.014619105826955182), (1966, 0.0039280756823527425), (1967, 0.006901471106120129), (1968, 0.025967186349764058), (1969, 0.018601332400667362), (1970, 0.0), (1971, 0.03355679324894207), (1972, 0.005194520273474187), (1973, 0.0), (1974, 0.003212436875523848), (1975, 0.047661714116047076), (1976, 0.010940705826454617), (1977, 0.040908213223054546), (1978, 0.03034519270147906), (1979, 0.0), (1980, 0.004326690496146219), (1981, 0.0053623679064242254), (1982, 0.038378725521129656), (1983, 0.007786126167897847), (1984, 0.0), (1985, 0.003263668468387154), (1986, 0.006847826119785888), (1987, 0.01168216559225636), (1988, 0.00997943478011), (1989, 0.008092841716720615), (1990, 0.004528500065931628), (1991, 0.008856285450960406), (1992, 0.02650717245493485), (1993, 0.03431348538805387), (1994, 0.007726791742672579), (1995, 0.01797902024242058), (1996, 0.024646899818999195), (1997, 0.019787757147023164), (1998, 0.004671853463493226), (1999, 0.03301287557484681), (2000, 0.015051994094900658), (2001, 0.011767371062042249), (2002, 0.00495390096561913), (2003, 0.010380946695775252), (2004, 0.00841348014287073), (2005, 0.04651045752537296), (2006, 0.0038238106571589323), (2007, 0.0045825222223298875), (2008, 0.0), (2009, 0.0), (2010, 0.014353195241305159), (2011, 0.024618079749683882), (2012, 0.0056116562938841544), (2013, 0.004703686321481954), (2014, 0.005886926416938623), (2015, 0.005536822265410868), (2016, 0.003823248066402491), (2017, 0.0), (2018, 0.01723778152994635), (2019, 0.0389990627716482), (2020, 0.0030178824550929403), (2021, 0.02516693545469885), (2022, 0.023482361140671294), (2023, 0.014586071999677461), (2024, 0.03267317036829285), (2025, 0.02790179713284898), (2026, 0.0045677524642930584), (2027, 0.03430486861362943), (2028, 0.021322303880564414), (2029, 0.018484028730979138), (2030, 0.04373751023663637), (2031, 0.0), (2032, 0.0), (2033, 0.0), (2034, 0.00988335001813671), (2035, 0.002942443533042454), (2036, 0.02024988136631478), (2037, 0.012835823129042637), (2038, 0.004900504587966395), (2039, 0.009475738494159055), (2040, 0.05895749799376571), (2041, 0.04092037566822365), (2042, 0.0), (2043, 0.007280402102554518), (2044, 0.021353990856371425), (2045, 0.011038451002405063), (2046, 0.03369569204881087), (2047, 0.08628334493778918), (2048, 0.040412126770002214), (2049, 0.004861064922915192), (2050, 0.02604967531059572), (2051, 0.003925308257662418), (2052, 0.010740882286064526), (2053, 0.020628991457314727), (2054, 0.002723745347770568), (2055, 0.0055659348663436485), (2056, 0.006394314208924795), (2057, 0.012082082473920805), (2058, 0.007568740449971146), (2059, 0.009136178282526983), (2060, 0.023633290284470865), (2061, 0.011139534467045136), (2062, 0.03588419554301611), (2063, 0.0027556347909715147), (2064, 0.003447051537660698), (2065, 0.0), (2066, 0.02541168385158823), (2067, 0.0), (2068, 0.01641916399804281), (2069, 0.022646669168418013), (2070, 0.009561144699202214), (2071, 0.04746319304561187), (2072, 0.009256576273273556), (2073, 0.004683287939838627), (2074, 0.016724062154198877), (2075, 0.007846659853670664), (2076, 0.008653963747959889), (2077, 0.003454231344644816), (2078, 0.06958906482901692), (2079, 0.003225476215956504), (2080, 0.0), (2081, 0.006339906025344412), (2082, 0.0), (2083, 0.010214751387454583), (2084, 0.020616875889878355), (2085, 0.006090111256979983), (2086, 0.0067399717510661416), (2087, 0.04147380276419733), (2088, 0.0036952958664037265), (2089, 0.04600042314234904), (2090, 0.03555975324091399), (2091, 0.005825066857674223), (2092, 0.07466178009261823), (2093, 0.05643305240726561), (2094, 0.008744108108439019), (2095, 0.0), (2096, 0.03309030049220496), (2097, 0.00400157273473364), (2098, 0.015408705925266827), (2099, 0.0), (2100, 0.026767065254348556), (2101, 0.028426699447210477), (2102, 0.008507867071776448), (2103, 0.006127115917103454), (2104, 0.006392857359614531), (2105, 0.007363361259962502), (2106, 0.007581575243068828), (2107, 0.0033914140690083352), (2108, 0.03450615540050095), (2109, 0.0), (2110, 0.04693395798667171), (2111, 0.022223287411003947), (2112, 0.021138508274797754), (2113, 0.017742919455990862), (2114, 0.01483999904707459), (2115, 0.0530403043635807), (2116, 0.0), (2117, 0.006127762073056988), (2118, 0.021953604236930296), (2119, 0.0), (2120, 0.01738165696686683), (2121, 0.0), (2122, 0.0), (2123, 0.004820471994085967), (2124, 0.006714916078134141), (2125, 0.011045380730872564), (2126, 0.022986649410358686), (2127, 0.0), (2128, 0.023303425283515616), (2129, 0.011402211199338928), (2130, 0.04064846929492841), (2131, 0.052905077517800665), (2132, 0.011213752457404406), (2133, 0.03977730237868841), (2134, 0.01263889744716834), (2135, 0.01093805400325468), (2136, 0.027755871118384578), (2137, 0.0), (2138, 0.005299673949499961), (2139, 0.011904959536942431), (2140, 0.013164579954442531), (2141, 0.050365621216228645), (2142, 0.005433538651746501), (2143, 0.004089010656450532), (2144, 0.018532782572873926), (2145, 0.016721471706380914), (2146, 0.02765155894039837), (2147, 0.0173361273566303), (2148, 0.007401585387818188), (2149, 0.00848258554633047), (2150, 0.0041441356712693025), (2151, 0.020990588070477083), (2152, 0.0043191317044950096), (2153, 0.006068002761662897), (2154, 0.008819552283281826), (2155, 0.006207159396927598), (2156, 0.008209747603754355), (2157, 0.005769845524019408), (2158, 0.005340583580559912), (2159, 0.018820999238645875), (2160, 0.013159912451401752), (2161, 0.02306623938295342), (2162, 0.02742859930282547), (2163, 0.00527752985158978), (2164, 0.003016788990972343), (2165, 0.008535471837535091), (2166, 0.003977026617448105), (2167, 0.008038504005544993), (2168, 0.029663259628873652), (2169, 0.0565284308700877), (2170, 0.0075080430512245635), (2171, 0.008904149189687065), (2172, 0.01407932131302031), (2173, 0.010197659717283574), (2174, 0.04133480311747412), (2175, 0.0067952651023131146), (2176, 0.003870766411248286), (2177, 0.01941177490727568), (2178, 0.03841885993529004), (2179, 0.005424907581500744), (2180, 0.0), (2181, 0.01240763561352708), (2182, 0.0032706344373652544), (2183, 0.004129564051371647), (2184, 0.00998849223366466), (2185, 0.06159395282560307), (2186, 0.013644161151542246), (2187, 0.02612315918083674), (2188, 0.017561911037734395), (2189, 0.06455696132828821), (2190, 0.023717127805362677), (2191, 0.04898069244334893), (2192, 0.02960849703187926), (2193, 0.00956710587745685), (2194, 0.023396268250179687), (2195, 0.007185583746954776), (2196, 0.04367167372129488), (2197, 0.027791359206739127), (2198, 0.01425428005567921), (2199, 0.010042697333124687), (2200, 0.003694864814380951), (2201, 0.01831899726088699), (2202, 0.004461651989635356), (2203, 0.00977698157611806), (2204, 0.017147744569761092), (2205, 0.03187639990075592), (2206, 0.0063981326595658914), (2207, 0.0144216166682731), (2208, 0.0), (2209, 0.006325859140553843), (2210, 0.02371325445603006), (2211, 0.04367260002674772), (2212, 0.0), (2213, 0.0637114855634209), (2214, 0.01014922179504546), (2215, 0.00788115947086024), (2216, 0.0), (2217, 0.012132672347289007), (2218, 0.025906037409785625), (2219, 0.03908012874243923), (2220, 0.01111051041260263), (2221, 0.03449545398688593), (2222, 0.007305006939265116), (2223, 0.005416299993652978), (2224, 0.0), (2225, 0.010798883632318783), (2226, 0.0019851066136385557), (2227, 0.008114220659147884), (2228, 0.020838197742222217), (2229, 0.01417647437230991), (2230, 0.028421602748151337), (2231, 0.005400018937306248), (2232, 0.013982790749562924), (2233, 0.03192771000219529), (2234, 0.03764538823940646), (2235, 0.0058002734756216374), (2236, 0.004151964604506151), (2237, 0.008438747616244139), (2238, 0.007575516711877552), (2239, 0.018113605866856983), (2240, 0.00882849261558117), (2241, 0.0), (2242, 0.016401171418667454), (2243, 0.00859099206419238), (2244, 0.040762469146485854), (2245, 0.03469907818447407), (2246, 0.04625604818439025), (2247, 0.03867798718839657), (2248, 0.0), (2249, 0.010709622690471682), (2250, 0.0023782998970086977), (2251, 0.004779949511872899), (2252, 0.005051354450754009), (2253, 0.0), (2254, 0.01101491579473032), (2255, 0.004281252832076896), (2256, 0.0026430274945232718), (2257, 0.028827536331181132), (2258, 0.014021472472774407), (2259, 0.024134046911633796), (2260, 0.026791065794373105), (2261, 0.003910556334398271), (2262, 0.004550442383940588), (2263, 0.03066608728683324), (2264, 0.0030286597018611924), (2265, 0.0036542284322663428), (2266, 0.04231248243988793), (2267, 0.0), (2268, 0.004650167502888642), (2269, 0.0), (2270, 0.033069363033800134), (2271, 0.0), (2272, 0.00987403954764107), (2273, 0.004668140662473753), (2274, 0.06124249843321386), (2275, 0.047520048110891215), (2276, 0.006070873606923918), (2277, 0.04816965277289463), (2278, 0.004268217997210407), (2279, 0.004383666537151364), (2280, 0.006047947063203868), (2281, 0.022761347350540546), (2282, 0.043862915590449164), (2283, 0.02199021736339228), (2284, 0.01388866110275346), (2285, 0.009568422784949354), (2286, 0.004770674877588115), (2287, 0.013223819286440664), (2288, 0.03494144398116268), (2289, 0.10883786524241765), (2290, 0.003253401785544507), (2291, 0.0051319009124967205), (2292, 0.0762423908736437), (2293, 0.03296873645053587), (2294, 0.0), (2295, 0.006238159510457449), (2296, 0.015489232819992342), (2297, 0.0), (2298, 0.007305663937142745), (2299, 0.04437573757369507), (2300, 0.00445819732934192), (2301, 0.01899399388321846), (2302, 0.03590545011021853), (2303, 0.02326631566644509), (2304, 0.0), (2305, 0.007634043969968941), (2306, 0.004346659712010143), (2307, 0.009446282270734449), (2308, 0.009474993119123132), (2309, 0.012214709405044885), (2310, 0.0), (2311, 0.09403365025731941), (2312, 0.008316591857302606), (2313, 0.012305013282987845), (2314, 0.0034093970153472744), (2315, 0.029722517754226487), (2316, 0.0), (2317, 0.005228889811490311), (2318, 0.030726418037518494), (2319, 0.031337326810670495), (2320, 0.02617576943751621), (2321, 0.05480432373263064), (2322, 0.020841754292347827), (2323, 0.05764739255454478), (2324, 0.006067660726756512), (2325, 0.011755361727705305), (2326, 0.11952918367734411), (2327, 0.015832407859827237), (2328, 0.006650269362643496), (2329, 0.013052398101129585), (2330, 0.0062171332040481826), (2331, 0.02093582490775439), (2332, 0.04426953135241153), (2333, 0.009692318050684226), (2334, 0.0050564334793864185), (2335, 0.05155790308745726), (2336, 0.00923407449674174), (2337, 0.01840853459249256), (2338, 0.010157629022499611), (2339, 0.015013813573749375), (2340, 0.013563019739096578), (2341, 0.0059707431201765976), (2342, 0.007443980476505799), (2343, 0.02922709059349187), (2344, 0.0061078961094931435), (2345, 0.023745377530289262), (2346, 0.00909832337232518), (2347, 0.024743754815543723), (2348, 0.0076677271525349856), (2349, 0.029940086967229614), (2350, 0.012946507338753757), (2351, 0.005250438029840478), (2352, 0.009016522320659543), (2353, 0.0037061371181669094), (2354, 0.003631701965336055), (2355, 0.039636762829058536), (2356, 0.004345005886794731), (2357, 0.048675662292026106), (2358, 0.006446499897027798), (2359, 0.008979486038747769), (2360, 0.004825233431601948), (2361, 0.010838069992261595), (2362, 0.011824932046653714), (2363, 0.010108455162039162), (2364, 0.0036109621960112655), (2365, 0.014169993802130007), (2366, 0.02836610836281475), (2367, 0.03544857583450078), (2368, 0.005252406322281177), (2369, 0.03503500251694369), (2370, 0.008624347402721366), (2371, 0.004230959513504839), (2372, 0.007923662576940702), (2373, 0.028324940778798068), (2374, 0.03982765969934226), (2375, 0.017479210017225147), (2376, 0.04792475393686307), (2377, 0.031547095593144246), (2378, 0.04458307519672797), (2379, 0.015952085253918252), (2380, 0.00926107985899616), (2381, 0.030775567524606494), (2382, 0.0036006099904716347), (2383, 0.008597521072748639), (2384, 0.012667602464685873), (2385, 0.004541580678704077), (2386, 0.030111929970389455), (2387, 0.015820684508459346), (2388, 0.008923800988180908), (2389, 0.009332762043614471), (2390, 0.00820202200010191), (2391, 0.0047798027504106265), (2392, 0.016678781846248988), (2393, 0.030559590970543872), (2394, 0.008032035735939816), (2395, 0.005895927129644505), (2396, 0.005384855123663258), (2397, 0.031054554544865543), (2398, 0.0), (2399, 0.0), (2400, 0.0035181142784162815), (2401, 0.010884845732839871), (2402, 0.020426876472541787), (2403, 0.00405601510749627), (2404, 0.022294521644657603), (2405, 0.010423906537705604), (2406, 0.0), (2407, 0.004341045533502066), (2408, 0.03353192548390334), (2409, 0.005563806066373626), (2410, 0.02237386746690463), (2411, 0.0), (2412, 0.012429364956408577), (2413, 0.068337522595955), (2414, 0.007148696147186278), (2415, 0.0), (2416, 0.0366781363271247), (2417, 0.0), (2418, 0.01520156313862712), (2419, 0.0), (2420, 0.021464530024867503), (2421, 0.0), (2422, 0.009485986742982401), (2423, 0.020775491932662326), (2424, 0.00383535508741227), (2425, 0.0), (2426, 0.01672592704567736), (2427, 0.0), (2428, 0.0), (2429, 0.041174436186774556), (2430, 0.04388963343185009), (2431, 0.026236959305937696), (2432, 0.028137159627228188), (2433, 0.007415427288922648), (2434, 0.03180756255448645), (2435, 0.021663493648723463), (2436, 0.0877291634295594), (2437, 0.014300328772814725), (2438, 0.04014144452926334), (2439, 0.04147648013089891), (2440, 0.01689429269437075), (2441, 0.007762141992252703), (2442, 0.0025094079293570245), (2443, 0.007610535805728376), (2444, 0.01362954229808509), (2445, 0.029174386897025867), (2446, 0.027536988008441662), (2447, 0.0299090311361871), (2448, 0.005623367881836377), (2449, 0.0), (2450, 0.011228536088346794), (2451, 0.009617979465904375), (2452, 0.03665791259985616), (2453, 0.01923075219978403), (2454, 0.016235896058168654), (2455, 0.019645354198189236), (2456, 0.02377599191382214), (2457, 0.015715542441953834), (2458, 0.035219824182038034), (2459, 0.00550121898059713), (2460, 0.007651884506022074), (2461, 0.005911964590611697), (2462, 0.0037817481058559483), (2463, 0.0030265177477034264), (2464, 0.011609262099568925), (2465, 0.02955523250484367), (2466, 0.026583623609724247), (2467, 0.032595397001039264), (2468, 0.022839953053281598), (2469, 0.05959447787428314), (2470, 0.009631414750442761), (2471, 0.0379131198948194), (2472, 0.01785891652377932), (2473, 0.006313789095241106), (2474, 0.0057922131400289295), (2475, 0.00515396929030597), (2476, 0.03356949677383759), (2477, 0.05474070815730696), (2478, 0.007732634141979477), (2479, 0.002559404405846558), (2480, 0.02103732346479818), (2481, 0.03795148756810219), (2482, 0.022892696842740354), (2483, 0.034397658658478075), (2484, 0.00896046400302631), (2485, 0.01864158647580852), (2486, 0.05391433439441133), (2487, 0.013329440202769882), (2488, 0.05122362718282697), (2489, 0.02420678525984772), (2490, 0.0033593654279574668), (2491, 0.03951237111913834), (2492, 0.012350754756530684), (2493, 0.0), (2494, 0.01194347472573304), (2495, 0.01488672527217199), (2496, 0.026041069484860745), (2497, 0.04540776409211062), (2498, 0.03375113787022163), (2499, 0.0), (2500, 0.00895595375647628), (2501, 0.00880070624167788), (2502, 0.03808847536303278), (2503, 0.0036248480534070574), (2504, 0.00538643408904313), (2505, 0.009569403298064608), (2506, 0.016709846527555687), (2507, 0.004364571466403163), (2508, 0.021711641313720498), (2509, 0.011514458370631375), (2510, 0.007554942344581001), (2511, 0.004961604527207193), (2512, 0.005825094943236583), (2513, 0.03604481136014933), (2514, 0.010612748444061158), (2515, 0.0025747805647855825), (2516, 0.02681632262008404), (2517, 0.02809032248663821), (2518, 0.030689923998203424), (2519, 0.01146802796937393), (2520, 0.011685505733224539), (2521, 0.039243903031965274), (2522, 0.01781813186560689), (2523, 0.010995384706961238), (2524, 0.01179166852162885), (2525, 0.011526913328826903), (2526, 0.015137500232333402), (2527, 0.0062740109722871475), (2528, 0.02689998086080123), (2529, 0.015853498784528353), (2530, 0.035774220027796), (2531, 0.005036985188557289), (2532, 0.03191874718518547), (2533, 0.04608473686831139), (2534, 0.06590256715483767), (2535, 0.029832951706512102), (2536, 0.018233474417254866), (2537, 0.014688973172317848), (2538, 0.025142898487590055), (2539, 0.020086729191930528), (2540, 0.03017141592940365), (2541, 0.0), (2542, 0.03796051429395371), (2543, 0.03020358696216118), (2544, 0.009003674102311088), (2545, 0.0), (2546, 0.0), (2547, 0.0026751345167609656), (2548, 0.005572088646151914), (2549, 0.005546852639885507), (2550, 0.0), (2551, 0.005002810435079842), (2552, 0.0037161067494656274), (2553, 0.025051866046672998), (2554, 0.03592868855791693), (2555, 0.003178707094354954), (2556, 0.027247036705601604), (2557, 0.023869989047165446), (2558, 0.018682318306269156), (2559, 0.009520573420622541), (2560, 0.17780510161990676), (2561, 0.04860531315551304), (2562, 0.011360947679839507), (2563, 0.008790259615661065), (2564, 0.04359854329849823), (2565, 0.0052445978626573745), (2566, 0.032394622896823266), (2567, 0.016748729293793455), (2568, 0.013288146931729503), (2569, 0.04295161432179049), (2570, 0.03421581734869235), (2571, 0.017074257090889482), (2572, 0.008655572610965731), (2573, 0.006902730823312225), (2574, 0.021715287848152832), (2575, 0.010828087670037106), (2576, 0.04101939986470352), (2577, 0.016703281039134883), (2578, 0.09108440261574466), (2579, 0.00839984935924663), (2580, 0.01460951993769831), (2581, 0.019352397955267504), (2582, 0.009355077986617711), (2583, 0.0031000489841377255), (2584, 0.03257966761948833), (2585, 0.016453454950968678), (2586, 0.02698110840579412), (2587, 0.0), (2588, 0.042364998372672595), (2589, 0.01641139527886337), (2590, 0.017499608992995568), (2591, 0.008633274780743112), (2592, 0.012307311332639823), (2593, 0.07618277689655652), (2594, 0.061591256057798624), (2595, 0.026173423892211223), (2596, 0.004606690375021885), (2597, 0.02468184189929155), (2598, 0.02358575658092538), (2599, 0.030698635429332696), (2600, 0.02450656912809216), (2601, 0.0070967877841592395), (2602, 0.002183737348022742), (2603, 0.010693900735788912), (2604, 0.007092091643815563), (2605, 0.007603253910780901), (2606, 0.004666101769240864), (2607, 0.013162839277255943), (2608, 0.1224942244939508), (2609, 0.022049195265939642), (2610, 0.03958211207528402), (2611, 0.053801078116587076), (2612, 0.01676932714388986), (2613, 0.008896743680405942), (2614, 0.10743849694065699), (2615, 0.011847377825316491), (2616, 0.03673567957352154), (2617, 0.0), (2618, 0.005720852685999442), (2619, 0.029567448974536524), (2620, 0.023947089900232508), (2621, 0.0), (2622, 0.03408819477212884), (2623, 0.04848890365970619), (2624, 0.0), (2625, 0.022375684373874685), (2626, 0.004594717317080224), (2627, 0.02482553571354989), (2628, 0.0069604047818136675), (2629, 0.0), (2630, 0.008626607189283222), (2631, 0.025562436256227537), (2632, 0.03634158512103936), (2633, 0.0027898835094266414), (2634, 0.026804308714289), (2635, 0.012394790131308377), (2636, 0.010228232025919083), (2637, 0.045574436866822124), (2638, 0.017307539407112632), (2639, 0.002892666027118232), (2640, 0.008898612030159537), (2641, 0.009215344432604765), (2642, 0.0031113890480689477), (2643, 0.009866334044011382), (2644, 0.069181839663934), (2645, 0.06839526047931321), (2646, 0.033966014727924536), (2647, 0.010873420564976595), (2648, 0.008448068971247094), (2649, 0.0), (2650, 0.005075767336285732), (2651, 0.00748185541893897), (2652, 0.012977288952534347), (2653, 0.009427136206482807), (2654, 0.026662042312483827), (2655, 0.015429785674805543), (2656, 0.004184854244893369), (2657, 0.004614687695310875), (2658, 0.009125555564398587), (2659, 0.02819539811451475), (2660, 0.012523916856284104), (2661, 0.019364597900721696), (2662, 0.016028812369724078), (2663, 0.016565584932721526), (2664, 0.03906605592925169), (2665, 0.003746045007522725), (2666, 0.0032494759079341193), (2667, 0.0032135629902988656), (2668, 0.0), (2669, 0.02243795090313202), (2670, 0.0), (2671, 0.0037711540705660934), (2672, 0.005267562684014311), (2673, 0.0046873998998570796), (2674, 0.02791778651460287), (2675, 0.02172863050759121), (2676, 0.0324153386958048), (2677, 0.050911431906974405), (2678, 0.0352093876213708), (2679, 0.0035680787071936454), (2680, 0.04366957415772314), (2681, 0.024190234907309007), (2682, 0.008753325857127826), (2683, 0.01417828783903052), (2684, 0.026946861819849753), (2685, 0.0), (2686, 0.054990793213243634), (2687, 0.00768836909485081), (2688, 0.003916015050163113), (2689, 0.0), (2690, 0.0), (2691, 0.006011383022126106), (2692, 0.006657447283118764), (2693, 0.01740319394434619), (2694, 0.011188094697682284), (2695, 0.0), (2696, 0.003533323390492984), (2697, 0.007434652157938684), (2698, 0.07704973432460285), (2699, 0.0), (2700, 0.01109123355636146), (2701, 0.0), (2702, 0.036863907582287074), (2703, 0.011185233962394917), (2704, 0.03260045400538444), (2705, 0.014839930989464373), (2706, 0.026538734452590636), (2707, 0.01645030395626673), (2708, 0.0032096912231280223), (2709, 0.010051437321260735), (2710, 0.02847875779623521), (2711, 0.0), (2712, 0.0038206183378763944), (2713, 0.011877161446695437), (2714, 0.003481815109835473), (2715, 0.00886611087801063), (2716, 0.00405062507736614), (2717, 0.004739516366588335), (2718, 0.01752998109221742), (2719, 0.00969280320768847), (2720, 0.02035897340776892), (2721, 0.008910374499034516), (2722, 0.0518831792262534), (2723, 0.05398558772386978), (2724, 0.007260799137622142), (2725, 0.0443693108207814), (2726, 0.018734940993248766), (2727, 0.008444021663691823), (2728, 0.04666990099461932), (2729, 0.00805394710959891), (2730, 0.01887369687135567), (2731, 0.004431183136862374), (2732, 0.004958666959678798), (2733, 0.0), (2734, 0.015364699125783109), (2735, 0.037872117404524085), (2736, 0.012672106077273064), (2737, 0.00560725340564133), (2738, 0.03159698054854816), (2739, 0.0), (2740, 0.06329577077876652), (2741, 0.007733883136820297), (2742, 0.013637726134510695), (2743, 0.011493520950640315), (2744, 0.004979396284572307), (2745, 0.025771272269801165), (2746, 0.021894778290915816), (2747, 0.007828780681185202), (2748, 0.015325072946156914), (2749, 0.010633013305872461), (2750, 0.026456756051166753), (2751, 0.0039608892652434535), (2752, 0.017675266435717204), (2753, 0.09528254997607476), (2754, 0.0284655296376446), (2755, 0.006250552814684935), (2756, 0.028209822767311248), (2757, 0.04145923736082607), (2758, 0.0212565671949648), (2759, 0.006604669671275504), (2760, 0.00962336345678812), (2761, 0.03766273272055983), (2762, 0.0058057250139938515), (2763, 0.004213081338201446), (2764, 0.005823298501382686), (2765, 0.03765194819645526), (2766, 0.031726791893816594), (2767, 0.009497762494545231), (2768, 0.006092675052748153), (2769, 0.0592273660885724), (2770, 0.04082464036666818), (2771, 0.0), (2772, 0.011423839761926454), (2773, 0.062148415004715636), (2774, 0.0045003354289329875), (2775, 0.011291317042595615), (2776, 0.013841148214009946), (2777, 0.011328046439539373), (2778, 0.023130923447792454), (2779, 0.0138025907361193), (2780, 0.03478607764346131), (2781, 0.0), (2782, 0.028092931221933518), (2783, 0.0), (2784, 0.0), (2785, 0.006402279250469756), (2786, 0.0265681539133022), (2787, 0.030759191299678346), (2788, 0.009097474507394294), (2789, 0.013894067677551756), (2790, 0.0036345508716247835), (2791, 0.02215147063359484), (2792, 0.014235913495334646), (2793, 0.0313646453378374), (2794, 0.05800723443521746), (2795, 0.02215081713015398), (2796, 0.008882200057561193), (2797, 0.0), (2798, 0.0), (2799, 0.043489019289911064), (2800, 0.00430407338708202), (2801, 0.0), (2802, 0.038592294400648985), (2803, 0.08670737738535168), (2804, 0.011899031539846557), (2805, 0.00524707672451167), (2806, 0.015173851751944125), (2807, 0.010778750252981084), (2808, 0.003502003960255148), (2809, 0.009649206641674842), (2810, 0.007202606033448074), (2811, 0.014747969316391352), (2812, 0.0), (2813, 0.010682553846028653), (2814, 0.022747551462698315), (2815, 0.009697708127017231), (2816, 0.016905888569908), (2817, 0.010872280494221261), (2818, 0.01176156006092249), (2819, 0.006172884222534535), (2820, 0.02029798051025949), (2821, 0.005333047087030342), (2822, 0.051853756670235944), (2823, 0.056986710726217873), (2824, 0.0), (2825, 0.008327543846518121), (2826, 0.08002103577695034), (2827, 0.0063395886644334355), (2828, 0.0038602069310186143), (2829, 0.0), (2830, 0.00831224287684425), (2831, 0.042542705494057274), (2832, 0.0046506721238168), (2833, 0.011572893217601476), (2834, 0.003624613243842553), (2835, 0.01520529335940596), (2836, 0.00710130575821672), (2837, 0.04095322334628709), (2838, 0.02229093945762856), (2839, 0.01468640374977397), (2840, 0.013024114643650463), (2841, 0.009084048600201379), (2842, 0.006008673121193963), (2843, 0.014781476471766636), (2844, 0.021690313525971956), (2845, 0.056986362747547634), (2846, 0.033505550885813265), (2847, 0.010513839439310786), (2848, 0.014284968276087374), (2849, 0.024556722533640003), (2850, 0.060886747611527535), (2851, 0.004451679826521507), (2852, 0.020328911377021894), (2853, 0.011981931156511192), (2854, 0.005848038083266161), (2855, 0.010424772441141601), (2856, 0.03216215577852839), (2857, 0.015616792131485284), (2858, 0.0612666780883388), (2859, 0.006735559260131792), (2860, 0.031503900913275734), (2861, 0.011194213273051673), (2862, 0.02823765554564592), (2863, 0.010012596853858196), (2864, 0.013457434791939893), (2865, 0.0035672921870319014), (2866, 0.04090495097185822), (2867, 0.02721843490948021), (2868, 0.03819677446385646), (2869, 0.0036293729647804917), (2870, 0.024885096683867), (2871, 0.057946192055921227), (2872, 0.009070073126953848), (2873, 0.003102727418721636), (2874, 0.003656243666428216), (2875, 0.004607348328981279), (2876, 0.01725906049705164), (2877, 0.029520977774400634), (2878, 0.008383145500803555), (2879, 0.012344701699165794), (2880, 0.002645666183079633), (2881, 0.019850743487603153), (2882, 0.005805833268179311), (2883, 0.003585687110038657), (2884, 0.0), (2885, 0.005454620476288539), (2886, 0.0), (2887, 0.0036184689130779983), (2888, 0.005242948077791162), (2889, 0.029352725868494432), (2890, 0.024195191885930004), (2891, 0.0065195133383933), (2892, 0.00973141879087961), (2893, 0.006521450905892813), (2894, 0.008256811688656808), (2895, 0.009742613937064805), (2896, 0.012728502463429506), (2897, 0.004370620583362678), (2898, 0.01500286919177868), (2899, 0.0038566331148093174), (2900, 0.004364268289761724), (2901, 0.02213543563721759), (2902, 0.004162013241450219), (2903, 0.016904516513770836), (2904, 0.004859640872922176), (2905, 0.04726084474876361), (2906, 0.014304551389230714), (2907, 0.037817977178645636), (2908, 0.03127875435366692), (2909, 0.021667144511401486), (2910, 0.006863089023008798), (2911, 0.04097638924208406), (2912, 0.004012540239849426), (2913, 0.01689713324163486), (2914, 0.011430125124957023), (2915, 0.0), (2916, 0.022780087556215134), (2917, 0.0), (2918, 0.007195480090202792), (2919, 0.015594889588809925), (2920, 0.012438624202109543), (2921, 0.07333556154392369), (2922, 0.03324180105851585), (2923, 0.0), (2924, 0.013867630988985104), (2925, 0.02925715399631997), (2926, 0.07549328502320152), (2927, 0.0), (2928, 0.0), (2929, 0.003726354854732725), (2930, 0.018138829698144173), (2931, 0.0), (2932, 0.0), (2933, 0.00795187346612947), (2934, 0.06456231226964956), (2935, 0.039859804268174204), (2936, 0.0035201438670400746), (2937, 0.06049747959398229), (2938, 0.0), (2939, 0.008326890783654102), (2940, 0.03269041982076322), (2941, 0.0), (2942, 0.02766444119738882), (2943, 0.007270309214252419), (2944, 0.02631947069367776), (2945, 0.0047279960763398935), (2946, 0.03093451534431352), (2947, 0.011826748322974898), (2948, 0.007505593736102767), (2949, 0.007896943274196334), (2950, 0.005917918912862258), (2951, 0.0), (2952, 0.0), (2953, 0.0), (2954, 0.011981621210609087), (2955, 0.005238385298663434), (2956, 0.014675172062776522), (2957, 0.0), (2958, 0.01634037307707894), (2959, 0.0), (2960, 0.01043731522757712), (2961, 0.019312142346105662), (2962, 0.014996036949258435), (2963, 0.016633201093639957), (2964, 0.09439668944385186), (2965, 0.0), (2966, 0.00417875292283452), (2967, 0.002889824033995642), (2968, 0.0), (2969, 0.0), (2970, 0.034353137369504544), (2971, 0.004697161628213041), (2972, 0.017718997443569626), (2973, 0.0), (2974, 0.0), (2975, 0.010573123577115807), (2976, 0.003409524312132628), (2977, 0.013176456152474869), (2978, 0.005162630715965068), (2979, 0.04545991443618232), (2980, 0.0278594585637704), (2981, 0.0213584388879538), (2982, 0.04188677800524167), (2983, 0.003522628315491197), (2984, 0.008500174483561078), (2985, 0.009057436796372262), (2986, 0.004832346741634793), (2987, 0.006401455641456219), (2988, 0.018457146050312255), (2989, 0.0020988067665282726), (2990, 0.0030248697305681953), (2991, 0.007070088754323327), (2992, 0.004484685928168622), (2993, 0.005308584985629165), (2994, 0.023081851970056144), (2995, 0.0174357711126056), (2996, 0.004950616682596597), (2997, 0.007475438053776309), (2998, 0.01719398436665954), (2999, 0.004894264220903301), (3000, 0.021776989826528346), (3001, 0.009665048280170322), (3002, 0.004276818497465378), (3003, 0.005473589424584981), (3004, 0.004986471533168006), (3005, 0.01758177934954575), (3006, 0.056072788416392114), (3007, 0.008089216897484118), (3008, 0.030257733205402065), (3009, 0.0), (3010, 0.012123086796386424), (3011, 0.058373503645284174), (3012, 0.004323620862320433), (3013, 0.017845184624275062), (3014, 0.011192394646959467), (3015, 0.020954873498408987), (3016, 0.03516323497672132), (3017, 0.031276488807985996), (3018, 0.0), (3019, 0.014149310685178301), (3020, 0.009791933160099714), (3021, 0.0), (3022, 0.019304241085052437), (3023, 0.00719597215490601), (3024, 0.01886648769774335), (3025, 0.006121063686216394), (3026, 0.023084285491613284), (3027, 0.01299435122761582), (3028, 0.0028141342016189674), (3029, 0.02903946326578583), (3030, 0.0), (3031, 0.0037989761323991055), (3032, 0.053473683327517806), (3033, 0.027313034759265782), (3034, 0.012935907877481521), (3035, 0.02579438645222959), (3036, 0.02368567921931277), (3037, 0.014449923845713482), (3038, 0.007183388349003511), (3039, 0.006246478390314628), (3040, 0.005452055863477855), (3041, 0.024132293097244763), (3042, 0.009896457651741134), (3043, 0.06951253287729421), (3044, 0.018143411235806282), (3045, 0.004777539688772952), (3046, 0.007538285052974739), (3047, 0.043214494806042086), (3048, 0.03715771319263343), (3049, 0.010237112220972027), (3050, 0.006110092073530828), (3051, 0.011691360658001537), (3052, 0.019532059049344457), (3053, 0.036845708326205845), (3054, 0.015927581121560307), (3055, 0.05544430387542751), (3056, 0.02477331339370161), (3057, 0.03604218872300925), (3058, 0.009204986645631599), (3059, 0.013031579689004761), (3060, 0.027372629611365436), (3061, 0.00744138224278975), (3062, 0.016850729278063126), (3063, 0.014456092119000053), (3064, 0.06929179512400634), (3065, 0.0074819131937800595), (3066, 0.02203810135398369), (3067, 0.0044061138565063525), (3068, 0.04041523165129952), (3069, 0.013872069273101015), (3070, 0.0021510646743787133), (3071, 0.06540959152840908), (3072, 0.05637288279475252), (3073, 0.021941733601211582), (3074, 0.006189942218477844), (3075, 0.005134660580456789), (3076, 0.018961089628782533), (3077, 0.014492457125179537), (3078, 0.015915974451549856), (3079, 0.0213988636432269), (3080, 0.03152919069175151), (3081, 0.0749157696847811), (3082, 0.0), (3083, 0.012452593542055152), (3084, 0.008571016829131846), (3085, 0.0), (3086, 0.0), (3087, 0.0060836449908219315), (3088, 0.07519450135021297), (3089, 0.019553544364277812), (3090, 0.0030368724514099592), (3091, 0.01323139163001922), (3092, 0.012225866414683397), (3093, 0.016546563281580322), (3094, 0.0450956651849069), (3095, 0.027759409233569517), (3096, 0.008671458817754772), (3097, 0.0), (3098, 0.006441797178175847), (3099, 0.003541138643711001), (3100, 0.004682244077904716), (3101, 0.03944803464039583), (3102, 0.020640296530774198), (3103, 0.027027539220988064), (3104, 0.047043742413786484), (3105, 0.0030975295138532368), (3106, 0.007547849459517164), (3107, 0.014062673702224693), (3108, 0.03257344192787757), (3109, 0.0), (3110, 0.012316592955104178), (3111, 0.010988948117465275), (3112, 0.0038232912970739188), (3113, 0.0), (3114, 0.011537834329590616), (3115, 0.0), (3116, 0.0), (3117, 0.021869702130188913), (3118, 0.0), (3119, 0.0), (3120, 0.014461940519927125), (3121, 0.020914777796129713), (3122, 0.013144287543871546), (3123, 0.0), (3124, 0.004493070466960865), (3125, 0.00446279328273762), (3126, 0.0), (3127, 0.004328679360111596), (3128, 0.0), (3129, 0.004841480623955587), (3130, 0.01967919125451632), (3131, 0.003767704347964265), (3132, 0.016169369678438135), (3133, 0.04069576961867135), (3134, 0.02560639939299514), (3135, 0.0052468743176248694), (3136, 0.0), (3137, 0.02624790933334363), (3138, 0.03191787886978925), (3139, 0.010839226783534186), (3140, 0.002776586977920753), (3141, 0.004952693737761266), (3142, 0.019529109703148705), (3143, 0.024149754483641022), (3144, 0.0), (3145, 0.005723880642514493), (3146, 0.019220274506341305), (3147, 0.0040355737596787745), (3148, 0.022775993621849126), (3149, 0.027317416448646593), (3150, 0.09237378090128552), (3151, 0.0), (3152, 0.0), (3153, 0.02805274900356401), (3154, 0.012705974793876283), (3155, 0.0), (3156, 0.026207553031463264), (3157, 0.021535282507602452), (3158, 0.018848491170463312), (3159, 0.05358493126162162), (3160, 0.005032806493979664), (3161, 0.012747018222338157), (3162, 0.005722998461502217), (3163, 0.004712990135341324), (3164, 0.0), (3165, 0.01025242595003837), (3166, 0.009102650017008374), (3167, 0.00524285629077307), (3168, 0.0), (3169, 0.0), (3170, 0.007712952076670362), (3171, 0.0042872804671179885), (3172, 0.010115533939383883), (3173, 0.021828333824868682), (3174, 0.04796938166614108), (3175, 0.0), (3176, 0.00918081062138683), (3177, 0.00442856508559099), (3178, 0.01501297196080261), (3179, 0.04904094706649702), (3180, 0.0032718005986938307), (3181, 0.05085242221354776), (3182, 0.00674990570269707), (3183, 0.034804926461118345), (3184, 0.014955479962256222), (3185, 0.023947182141598734), (3186, 0.0), (3187, 0.006047949718599805), (3188, 0.03747168942802744), (3189, 0.0082020333802856), (3190, 0.023697080406632612), (3191, 0.05210871652702348), (3192, 0.03196247993437682), (3193, 0.07330329653318798), (3194, 0.009235335884710151), (3195, 0.0038900625819740797), (3196, 0.043104331455930824), (3197, 0.0), (3198, 0.01273015181738103), (3199, 0.013797808226733693), (3200, 0.0073050579920606136), (3201, 0.010943600269728217), (3202, 0.010645608228898155), (3203, 0.02077795950920724), (3204, 0.00942881183856584), (3205, 0.0038625563685585735), (3206, 0.00876068431793795), (3207, 0.01564185522484289), (3208, 0.04458377744068321), (3209, 0.0), (3210, 0.05695422838053131), (3211, 0.004521027303606821), (3212, 0.011648754901854817), (3213, 0.004845187773053615), (3214, 0.010559281461661005), (3215, 0.0028471830166343637), (3216, 0.0), (3217, 0.004029510555543452), (3218, 0.007891646241388125), (3219, 0.09392065677611328), (3220, 0.03969364214672418), (3221, 0.033741107297032134), (3222, 0.008757943886950448), (3223, 0.004089817867029201), (3224, 0.018458164568471627), (3225, 0.005491798394248405), (3226, 0.0046161680937907325), (3227, 0.02574713451989957), (3228, 0.0), (3229, 0.0), (3230, 0.0030795424476330576), (3231, 0.010282001654102027), (3232, 0.008660688869786437), (3233, 0.0), (3234, 0.0036111834264651245), (3235, 0.0021294194574728105), (3236, 0.036052457295921415), (3237, 0.005233553152385838), (3238, 0.0), (3239, 0.003544380452793751), (3240, 0.012695911577589035), (3241, 0.10962685153991443), (3242, 0.015273149129910726), (3243, 0.01538440721163665), (3244, 0.003289823015385598), (3245, 0.02096209185912464), (3246, 0.009896510512312856), (3247, 0.030210482761218054), (3248, 0.05387761828493118), (3249, 0.02048460987617325), (3250, 0.029557987688555422), (3251, 0.0038427934016727976), (3252, 0.007873043348958858), (3253, 0.010737922558361085), (3254, 0.0037106623948274355), (3255, 0.0), (3256, 0.027952879703437725), (3257, 0.026953166043041227), (3258, 0.004615467248581753), (3259, 0.010127384559350354), (3260, 0.023386379003411947), (3261, 0.009022198736467854), (3262, 0.024168356544730575), (3263, 0.02775947245220341), (3264, 0.009644598913343261), (3265, 0.004019086065071927), (3266, 0.00566271660376636), (3267, 0.03179088102332246), (3268, 0.03813472799186295), (3269, 0.05910393946776357), (3270, 0.029446814448033664), (3271, 0.019631483078319932), (3272, 0.012253705306165062), (3273, 0.003961582223072993), (3274, 0.007618330610037815), (3275, 0.004922683149232806), (3276, 0.009250255124428333), (3277, 0.010866694876787963), (3278, 0.008710404150155735), (3279, 0.0), (3280, 0.004219644776390789), (3281, 0.005921924131301479), (3282, 0.0028522935132942353), (3283, 0.00329219639315746), (3284, 0.011047076090562075), (3285, 0.007098370464148184), (3286, 0.0), (3287, 0.0048213780610289044), (3288, 0.011250444830164883), (3289, 0.02294121791947555), (3290, 0.028425131796856004), (3291, 0.04947886958323108), (3292, 0.06365149936154219), (3293, 0.003027034375970594), (3294, 0.004510682824792059), (3295, 0.002504879137704107), (3296, 0.005914288090942864), (3297, 0.01139710241250014), (3298, 0.013253685820370622), (3299, 0.013978589057679725), (3300, 0.0), (3301, 0.05974289235254017), (3302, 0.016458441110514147), (3303, 0.014248071261926839), (3304, 0.01333677548686702), (3305, 0.0), (3306, 0.003367421533699623), (3307, 0.01583345907470966), (3308, 0.0069985994771600375), (3309, 0.006939653526940769), (3310, 0.0), (3311, 0.016391113269090173), (3312, 0.026084767584347822), (3313, 0.012266407405722244), (3314, 0.01591593184880864), (3315, 0.007720054665239201), (3316, 0.014762659010636775), (3317, 0.0), (3318, 0.007980581075000388), (3319, 0.004782412948889957), (3320, 0.06007985430670702), (3321, 0.03728005036631529), (3322, 0.07049873827462312), (3323, 0.0025913376588799137), (3324, 0.019193505970795274), (3325, 0.004088273040819733), (3326, 0.010577056056070122), (3327, 0.009034225295736258), (3328, 0.0034964608801737697), (3329, 0.03450169285641631), (3330, 0.036016819056072485), (3331, 0.04210371870051167), (3332, 0.003795663850001773), (3333, 0.004789059896092387), (3334, 0.046212030123419484), (3335, 0.004483616707178216), (3336, 0.006707910710403256), (3337, 0.009141205527929332), (3338, 0.006452270147580239), (3339, 0.007156318675533772), (3340, 0.011351030530828563), (3341, 0.011767009641153481), (3342, 0.012865832684582176), (3343, 0.025387907287415287), (3344, 0.006779641932328596), (3345, 0.014411136206879054), (3346, 0.05053973648155683), (3347, 0.01308664718589552), (3348, 0.041662181058829795), (3349, 0.010516041759970602), (3350, 0.027658700821769057), (3351, 0.0), (3352, 0.03396816170213381), (3353, 0.01789336097872388), (3354, 0.0061259537271116165), (3355, 0.016911570417990036), (3356, 0.019882933789498087), (3357, 0.048837048780254966), (3358, 0.02392444672283873), (3359, 0.05087041168464061), (3360, 0.031099784264700194), (3361, 0.002591507379976505), (3362, 0.1084381248329971), (3363, 0.005149217460914871), (3364, 0.018828058375204966), (3365, 0.009313614389078982), (3366, 0.012091757292380757), (3367, 0.048811202331308166), (3368, 0.00627686830411232), (3369, 0.002230481427422755), (3370, 0.019326181754673363), (3371, 0.024949772803463763), (3372, 0.028313435461334108), (3373, 0.018978624351781465), (3374, 0.0032400492695900834), (3375, 0.011340315317008345), (3376, 0.016569015097593752), (3377, 0.025174339438676127), (3378, 0.00868417480134375), (3379, 0.030319520631372072), (3380, 0.003276990995257215), (3381, 0.06067014434366172), (3382, 0.01439087420818214), (3383, 0.018976422832784237), (3384, 0.008710659453366992), (3385, 0.005352488695768103), (3386, 0.011235513032993825), (3387, 0.0031211840527015527), (3388, 0.005532687669104413), (3389, 0.014053538041014753), (3390, 0.011480191268912945), (3391, 0.006550929623817089), (3392, 0.01070698906776828), (3393, 0.003359943779635791), (3394, 0.009696238243773397), (3395, 0.012395028551242656), (3396, 0.010760186605941562), (3397, 0.008502472393940535), (3398, 0.0), (3399, 0.013405831660013816), (3400, 0.007418540353877053), (3401, 0.005898871353368304), (3402, 0.004949524437294206), (3403, 0.08547644527322106), (3404, 0.006784539709809751), (3405, 0.03374162481777198), (3406, 0.005936274124548631), (3407, 0.0045168759685994195), (3408, 0.011520575966380234), (3409, 0.010837228207374306), (3410, 0.022605507392047235), (3411, 0.004402567289909352), (3412, 0.006195014657613475), (3413, 0.007455321885323944), (3414, 0.00899671656310243), (3415, 0.00773914273207529), (3416, 0.006168980953899918), (3417, 0.03330534758252185), (3418, 0.01519353823982944), (3419, 0.02751610620498747), (3420, 0.011019517768562139), (3421, 0.006382049269948946), (3422, 0.011091385138746378), (3423, 0.0077565519738110895), (3424, 0.009544016632451748), (3425, 0.004277433739211113), (3426, 0.009492713644489495), (3427, 0.004695442828592864), (3428, 0.06388698164349521), (3429, 0.0029575150367362624), (3430, 0.007597743787786371), (3431, 0.009204986645631599), (3432, 0.013031579689004761), (3433, 0.027372629611365436), (3434, 0.011842272785588186), (3435, 0.02887103491850844), (3436, 0.06968976140687998), (3437, 0.02061763179971093), (3438, 0.02705746066161302), (3439, 0.012723995728372621), (3440, 0.010705322642770305), (3441, 0.038507129396261816), (3442, 0.03599386504137368), (3443, 0.00590991295108944), (3444, 0.01882498479364538), (3445, 0.008242189956303178), (3446, 0.0673332453700402), (3447, 0.0), (3448, 0.004763690468134581), (3449, 0.06062677391540738), (3450, 0.07059229681065113), (3451, 0.043236660507286064), (3452, 0.012308632123086116), (3453, 0.0557452359114392), (3454, 0.02230183153581614), (3455, 0.0), (3456, 0.02764371043262819), (3457, 0.03309009282221717), (3458, 0.020117845550656245), (3459, 0.01060431486978023), (3460, 0.029096593222875264), (3461, 0.004759626058463602), (3462, 0.02302994520246308), (3463, 0.01558029415369715), (3464, 0.004813678036369952), (3465, 0.004436753664930321), (3466, 0.02023635541392321), (3467, 0.0034857923427404577), (3468, 0.0032779543469109943), (3469, 0.007451856901613929), (3470, 0.010619115779925442), (3471, 0.02925551952915525), (3472, 0.04698834439020065), (3473, 0.07805940625595516), (3474, 0.004840003917471908), (3475, 0.02400288385820312), (3476, 0.004118913440923977), (3477, 0.03483633694128406), (3478, 0.0), (3479, 0.011667908722876952), (3480, 0.004196069295081938), (3481, 0.017460422235309418), (3482, 0.005400838773819819), (3483, 0.019734863082329013), (3484, 0.02393925262217869), (3485, 0.008868943771141974), (3486, 0.00488349715317606), (3487, 0.02434034745504329), (3488, 0.00786070536305258), (3489, 0.03196073678467265), (3490, 0.005686005801162975), (3491, 0.05469369504249333), (3492, 0.005173119940207852), (3493, 0.004834458251773599), (3494, 0.008077794704883342), (3495, 0.017336401102568115), (3496, 0.11283367939991654), (3497, 0.005097892232963224), (3498, 0.009607349451930711), (3499, 0.011105061499249844), (3500, 0.020817352165932723), (3501, 0.009310916497700765), (3502, 0.023561265850295457), (3503, 0.031646996017810486), (3504, 0.030263998009980784), (3505, 0.01382554499397483), (3506, 0.0), (3507, 0.003201931095450059), (3508, 0.008868154179048238), (3509, 0.015031596119602364), (3510, 0.011894322011803128), (3511, 0.00824334508206931), (3512, 0.0113440757079987), (3513, 0.0036403322069192374), (3514, 0.004497767224026184), (3515, 0.006294755320819232), (3516, 0.0036896568029878797), (3517, 0.023000789427163354), (3518, 0.005003138606356289), (3519, 0.008393003975420789), (3520, 0.008664116748302132), (3521, 0.042066813392272244), (3522, 0.005131343390882228), (3523, 0.013956903288072722), (3524, 0.014735362107065744), (3525, 0.0), (3526, 0.0), (3527, 0.01085169543877203), (3528, 0.010005702701184876), (3529, 0.0), (3530, 0.03489497414537719), (3531, 0.031755888034885084), (3532, 0.006180921676908917), (3533, 0.03577619005662682), (3534, 0.0), (3535, 0.03153489911673091), (3536, 0.0), (3537, 0.01591894311682926), (3538, 0.007174193782149983), (3539, 0.0), (3540, 0.012909484073671693), (3541, 0.00952266045787653), (3542, 0.014529757694497217), (3543, 0.008797167711563199), (3544, 0.011138907836456494), (3545, 0.0), (3546, 0.0), (3547, 0.011665079749685142), (3548, 0.005774809004111117), (3549, 0.03323609673852725), (3550, 0.06920141664950111), (3551, 0.0), (3552, 0.10207711597033824), (3553, 0.020892330581195745), (3554, 0.027433486647707436), (3555, 0.010033330692619302), (3556, 0.0185007446306243), (3557, 0.00337181746587095), (3558, 0.021048866002742084), (3559, 0.004644518573892117), (3560, 0.06207937694481028), (3561, 0.0), (3562, 0.004569635745504826), (3563, 0.010699296604073573), (3564, 0.012290799239214209), (3565, 0.006200579834106096), (3566, 0.03238453561327885), (3567, 0.01658384038419378), (3568, 0.020447915550144705), (3569, 0.0), (3570, 0.005557370078282552), (3571, 0.02101938053470003), (3572, 0.0), (3573, 0.010498249747101064), (3574, 0.014353314500771576), (3575, 0.0078023207240241), (3576, 0.027951599876893746), (3577, 0.021975214755144353), (3578, 0.09427816942734812), (3579, 0.009689571595130113), (3580, 0.0), (3581, 0.021077399985020874), (3582, 0.0), (3583, 0.005598695097634052), (3584, 0.024381688448668976), (3585, 0.004713939001683253), (3586, 0.048324063107059965), (3587, 0.008593440043035123), (3588, 0.024973538011806445), (3589, 0.0), (3590, 0.021793171626335567), (3591, 0.005949652055606088), (3592, 0.008964659546343004), (3593, 0.05201664929674209), (3594, 0.0), (3595, 0.005338422602347237), (3596, 0.0), (3597, 0.012531064963405288), (3598, 0.0), (3599, 0.0), (3600, 0.10117185645345061), (3601, 0.0), (3602, 0.010123223525227543), (3603, 0.00715038780673273), (3604, 0.027733210614806957), (3605, 0.029078658236173203), (3606, 0.00531529409632063), (3607, 0.0), (3608, 0.0029856495581409483), (3609, 0.040598471246496), (3610, 0.021137673113796766), (3611, 0.02508398036079191), (3612, 0.008111495808642627), (3613, 0.04742480893567739), (3614, 0.014198850736191511), (3615, 0.021197653974213384), (3616, 0.008863055657551652), (3617, 0.006444460559338906), (3618, 0.07769545828698127), (3619, 0.023689973111854078), (3620, 0.005599480827396396), (3621, 0.008507823536755868), (3622, 0.0), (3623, 0.0), (3624, 0.0), (3625, 0.00452761255789677), (3626, 0.0), (3627, 0.04794465066657338), (3628, 0.005113576202675991), (3629, 0.017457263024277463), (3630, 0.0073130524046330185), (3631, 0.0), (3632, 0.0), (3633, 0.0), (3634, 0.030261929521360934), (3635, 0.0), (3636, 0.0), (3637, 0.01567405587795298), (3638, 0.0), (3639, 0.011555898329045492), (3640, 0.014098475561492081), (3641, 0.005782825268761785), (3642, 0.0673559248591576), (3643, 0.031164763014147997), (3644, 0.03637371799113626), (3645, 0.0), (3646, 0.0067692423482319875), (3647, 0.0218055233595828), (3648, 0.02966044506189138), (3649, 0.0195713243002789), (3650, 0.019683517767484886), (3651, 0.017929898953196594), (3652, 0.003796169715055399), (3653, 0.004747726093719941), (3654, 0.03984772227672416), (3655, 0.019309915080437123), (3656, 0.03433711931611212), (3657, 0.005620126097248288), (3658, 0.0060222242688535614), (3659, 0.05223668798672221), (3660, 0.056486306373723864), (3661, 0.0415573886705857), (3662, 0.003858699878253351), (3663, 0.03193001948894556), (3664, 0.03990977035525789), (3665, 0.010528549560409021), (3666, 0.012168087970711738), (3667, 0.08707367114965125), (3668, 0.02083251734234936), (3669, 0.004295270685461758), (3670, 0.0), (3671, 0.04737699160238033), (3672, 0.004343202121097897), (3673, 0.037331594274104506), (3674, 0.0), (3675, 0.028287448699673045), (3676, 0.04677917464298589), (3677, 0.0), (3678, 0.0), (3679, 0.004573560314485558), (3680, 0.0), (3681, 0.004916583003991846), (3682, 0.004719303087937151), (3683, 0.017614357995839474), (3684, 0.07569278024736369), (3685, 0.028486963043434683), (3686, 0.020374485261365715), (3687, 0.0), (3688, 0.002466292858873922), (3689, 0.0029138677275261796), (3690, 0.0036388321417676218), (3691, 0.0040108601175295275), (3692, 0.03949858694712768), (3693, 0.0), (3694, 0.004411053125952938), (3695, 0.009225309489927834), (3696, 0.04082581499221537), (3697, 0.03610513187845927), (3698, 0.043561499167560816), (3699, 0.0), (3700, 0.014933437775788344), (3701, 0.004756743899149269), (3702, 0.023083238579561738), (3703, 0.009163181301389548), (3704, 0.01863580852398882), (3705, 0.046903477136778844), (3706, 0.006243253270589177), (3707, 0.02468541108990044), (3708, 0.004242517977208376), (3709, 0.009705686169685014), (3710, 0.010523270066358358), (3711, 0.06471660171575953), (3712, 0.03326622651483722), (3713, 0.03535167774865238), (3714, 0.004349187066218317), (3715, 0.03653636694808403), (3716, 0.00567106027042597), (3717, 0.015202892277760444), (3718, 0.018964274166544632), (3719, 0.018083195048475272), (3720, 0.030815384736264575), (3721, 0.03138954596405109), (3722, 0.027768175801003724), (3723, 0.003425205793280748), (3724, 0.00442738538883373), (3725, 0.037135101499808296), (3726, 0.003988853136112703), (3727, 0.012987966732072033), (3728, 0.023731889677395375), (3729, 0.008602438443989497), (3730, 0.006789735423626361), (3731, 0.005402553304463685), (3732, 0.040063585387689324), (3733, 0.006946073812386187), (3734, 0.012837950814428178), (3735, 0.04878275118552322), (3736, 0.007720070906326003), (3737, 0.03463304816398844), (3738, 0.014237438889970557), (3739, 0.012593341161747769), (3740, 0.02919310100842098), (3741, 0.003509004804868088), (3742, 0.007068928918933204), (3743, 0.020652765754736548), (3744, 0.012513727181883164), (3745, 0.04003717819795875), (3746, 0.022856946640011623), (3747, 0.012019948603182756), (3748, 0.011781567141816784), (3749, 0.003598771505291891), (3750, 0.06850731032533534), (3751, 0.010007896782690881), (3752, 0.008768333961703852), (3753, 0.014697727200400527), (3754, 0.012351989296720652), (3755, 0.0083447307002689), (3756, 0.01255007311648607), (3757, 0.01936026794238422), (3758, 0.0036926764793395925), (3759, 0.04656293009932148), (3760, 0.005522039669333539), (3761, 0.007127790107842091), (3762, 0.009223549369961968), (3763, 0.07055864547490721), (3764, 0.007968914582205685), (3765, 0.06300378568626758), (3766, 0.00679708275082052), (3767, 0.01105689000049602), (3768, 0.012522292727399131), (3769, 0.05142691356784322), (3770, 0.06775437785927638), (3771, 0.0), (3772, 0.014221178459136764), (3773, 0.02372590327037558), (3774, 0.004311754089660589), (3775, 0.0), (3776, 0.01889447895086998), (3777, 0.0072116323168606835), (3778, 0.02499730811305627), (3779, 0.004436819793996232), (3780, 0.009901985228944657), (3781, 0.08398497011912912), (3782, 0.005843035542637987), (3783, 0.0382978124665561), (3784, 0.10258180437408491), (3785, 0.033820612892493954), (3786, 0.04572930862082174), (3787, 0.008162382274696608), (3788, 0.029187079132133087), (3789, 0.005936639218836581), (3790, 0.0), (3791, 0.006970858499024901), (3792, 0.011367448664071102), (3793, 0.017327493117529773), (3794, 0.005511196580131318), (3795, 0.0033322343080016857), (3796, 0.0142572508397516), (3797, 0.02214147464003958), (3798, 0.020000476602643716), (3799, 0.009987834809200465), (3800, 0.0), (3801, 0.006450437027553494), (3802, 0.021972568491586734), (3803, 0.022880752618730186), (3804, 0.006178263366783555), (3805, 0.029839499071407927), (3806, 0.006568844234986663), (3807, 0.027533419814957424), (3808, 0.011095695454008736), (3809, 0.013084797168630445), (3810, 0.0), (3811, 0.007473096214198435), (3812, 0.04737943790353748), (3813, 0.004955556327004098), (3814, 0.010000674092990896), (3815, 0.0041378458703606), (3816, 0.04238089289670927), (3817, 0.006570391395591122), (3818, 0.003231418026435465), (3819, 0.00540885701472066), (3820, 0.030004341843955375), (3821, 0.004598903176925589), (3822, 0.0030490720189798644), (3823, 0.032687053308297125), (3824, 0.05096833853349457), (3825, 0.00405142684347341), (3826, 0.011874552470207989), (3827, 0.02143329484513707), (3828, 0.0), (3829, 0.04456228483614523), (3830, 0.010480547248388764), (3831, 0.0), (3832, 0.003387204412949626), (3833, 0.01940043832596138), (3834, 0.0037374967438389434), (3835, 0.004834232052501662), (3836, 0.03155009029857413), (3837, 0.021621073986974285), (3838, 0.006638594782994389), (3839, 0.02122832296116054), (3840, 0.02836980964868349), (3841, 0.008715902040809877), (3842, 0.01459100709938687), (3843, 0.01098565514777352), (3844, 0.02511794532303784), (3845, 0.007990964089596413), (3846, 0.026078655454382996), (3847, 0.006373488196367244), (3848, 0.0023451356522049796), (3849, 0.0), (3850, 0.003944853845954407), (3851, 0.025849020401002114), (3852, 0.003572016924667301), (3853, 0.005444592007999646), (3854, 0.037246099441542266), (3855, 0.028829764396458093), (3856, 0.012208834879683161), (3857, 0.007412171911089026), (3858, 0.0), (3859, 0.004493153694904853), (3860, 0.019462509171307707), (3861, 0.004365703047179983), (3862, 0.010940257919957893), (3863, 0.006161449432174697), (3864, 0.02934678608089936), (3865, 0.020219672272425198), (3866, 0.0033805881730286117), (3867, 0.040852223906299355), (3868, 0.0), (3869, 0.037663335722694834), (3870, 0.011343906638798836), (3871, 0.00391425561580935), (3872, 0.004695105607954431), (3873, 0.0023326198383244886), (3874, 0.010712693543276185), (3875, 0.011731747280883636), (3876, 0.0), (3877, 0.03115471921952552), (3878, 0.018342556937087744), (3879, 0.007902501982380673), (3880, 0.03740924554022093), (3881, 0.03682384457995419), (3882, 0.013427854571797234), (3883, 0.02656392361485938), (3884, 0.026889511359770024), (3885, 0.016802934596471406), (3886, 0.0), (3887, 0.012758894522621887), (3888, 0.0034972477278728893), (3889, 0.11010081953349363), (3890, 0.03714776626402995), (3891, 0.008536824954199863), (3892, 0.0), (3893, 0.04681624205945905), (3894, 0.003976094828158127), (3895, 0.010358294565675375), (3896, 0.0032890489095434594), (3897, 0.014458061869679748), (3898, 0.04661908261769532), (3899, 0.008830498471953926), (3900, 0.018050814036072296), (3901, 0.011166178523921912), (3902, 0.0108363831268237), (3903, 0.011212751177515707), (3904, 0.03640649757721926), (3905, 0.065833722915256), (3906, 0.013922641204340813), (3907, 0.05346248292976087), (3908, 0.03346593885643059), (3909, 0.01364137070879755), (3910, 0.006344016881060919), (3911, 0.047146525980805806), (3912, 0.008386624097208643), (3913, 0.03704513840139425), (3914, 0.01130891559279879), (3915, 0.011885847249152925), (3916, 0.005910682760066963), (3917, 0.03572968495756311), (3918, 0.01734323831658048), (3919, 0.013402575607899196), (3920, 0.028264544739284154), (3921, 0.004460425710553908), (3922, 0.002719672683184986), (3923, 0.0037672215874331822), (3924, 0.00663106721718957), (3925, 0.02279728546353043), (3926, 0.011792892032951151), (3927, 0.01670721758512121), (3928, 0.06940210379461906), (3929, 0.011393217704417778), (3930, 0.01228807236630397), (3931, 0.0), (3932, 0.02468426469306667), (3933, 0.006691877995334684), (3934, 0.011074258244816105), (3935, 0.009160009549215482), (3936, 0.003656661094288486), (3937, 0.0), (3938, 0.004466713872752521), (3939, 0.007144188700639081), (3940, 0.012942086551915942), (3941, 0.01117475295429974), (3942, 0.00872706101569016), (3943, 0.04165216945263415), (3944, 0.008544483017837657), (3945, 0.007731077620942389), (3946, 0.05336731270176176), (3947, 0.0), (3948, 0.012320454763029436), (3949, 0.005852501249929552), (3950, 0.0), (3951, 0.0062827169354216904), (3952, 0.0), (3953, 0.014833066368056693), (3954, 0.036089170790568524), (3955, 0.008152691562128908), (3956, 0.004237655026356926), (3957, 0.0190686475034877), (3958, 0.0), (3959, 0.01464427345051237), (3960, 0.02737159627902283), (3961, 0.028370846471922884), (3962, 0.012282950607898815), (3963, 0.009827139849270736), (3964, 0.004302320794384163), (3965, 0.0026828733979351173), (3966, 0.0), (3967, 0.0029374687436373986), (3968, 0.0335769763279293), (3969, 0.03702407211627274), (3970, 0.004277834375939596), (3971, 0.011718192652663741), (3972, 0.008383184192875273), (3973, 0.00946328211340551), (3974, 0.014213975255072986), (3975, 0.04153438810494801), (3976, 0.023154374417929096), (3977, 0.004140834387064273), (3978, 0.04395045063720927), (3979, 0.12700901279193202), (3980, 0.0081358130084321), (3981, 0.04126200442332783), (3982, 0.0), (3983, 0.0), (3984, 0.11315956503560973), (3985, 0.01735713242436307), (3986, 0.011238753716888806), (3987, 0.021392879899540355), (3988, 0.003378009406173483), (3989, 0.010361100417020621), (3990, 0.009289710737280937), (3991, 0.002538980218904607), (3992, 0.00395775496170679), (3993, 0.024284195448711045), (3994, 0.004270311877383388), (3995, 0.006360372711214303), (3996, 0.03246869243523242), (3997, 0.03031979370766466), (3998, 0.012412006194639764), (3999, 0.013926279126513898), (4000, 0.01226003400527341), (4001, 0.08585438491749926), (4002, 0.0051262898059514575), (4003, 0.00604199866793463), (4004, 0.009285751530206318), (4005, 0.01276064611771268), (4006, 0.037205158276806614), (4007, 0.021552687056207623), (4008, 0.033533553193740705), (4009, 0.03141421070348737), (4010, 0.052177048569536866), (4011, 0.005821032592913718), (4012, 0.01974609773681542), (4013, 0.015133058699609861), (4014, 0.005696219530213358), (4015, 0.05722190862272279), (4016, 0.011057688925021073), (4017, 0.014142962857353721), (4018, 0.05117778871018612), (4019, 0.009885643144901556), (4020, 0.021177415200719425), (4021, 0.034087229534495375), (4022, 0.05608002060093645), (4023, 0.01552635362237021), (4024, 0.029830509317964913), (4025, 0.0419084660304297), (4026, 0.01674196089860609), (4027, 0.016733646809973503), (4028, 0.009112057776894025), (4029, 0.019179430788902458), (4030, 0.03758749378864961), (4031, 0.03615856032566045), (4032, 0.0037213808332289744), (4033, 0.027248752888089804), (4034, 0.014112482484197109), (4035, 0.028003521456423926), (4036, 0.007367663585004886), (4037, 0.006623897237584733), (4038, 0.014279464173708793), (4039, 0.021844445696542578), (4040, 0.024824783886357265), (4041, 0.017571617595632628), (4042, 0.016517594325033514), (4043, 0.008454734204419383), (4044, 0.0), (4045, 0.05894178384205016), (4046, 0.04908258751922505), (4047, 0.005462997259011521), (4048, 0.0030624143630604223), (4049, 0.0), (4050, 0.019932224171802796), (4051, 0.004529313541302445), (4052, 0.017047831619102193), (4053, 0.010774084284963514), (4054, 0.03523134623199844), (4055, 0.008884455812664819), (4056, 0.003764208905099828), (4057, 0.01944374601774984), (4058, 0.00347286856975376), (4059, 0.020073669881548125), (4060, 0.0), (4061, 0.028929790687014574), (4062, 0.01705422379596658), (4063, 0.04952101511704042), (4064, 0.00427276524659829), (4065, 0.015981336794928337), (4066, 0.0569382000515234), (4067, 0.02512452198205044), (4068, 0.012064936466680158), (4069, 0.06306107533620982), (4070, 0.04602653543565777), (4071, 0.009291496390272507), (4072, 0.06724062508992318), (4073, 0.0492383181481334), (4074, 0.008365924784479006), (4075, 0.01885251481577617), (4076, 0.012464936164517918), (4077, 0.009623568956676036), (4078, 0.02004602388405397), (4079, 0.0), (4080, 0.013594682397760738), (4081, 0.04612779375653685), (4082, 0.012379200133219118), (4083, 0.010393789745021215), (4084, 0.008976079431060838), (4085, 0.004818689601523842), (4086, 0.030312444793830502), (4087, 0.0263698942375862), (4088, 0.010847337777970326), (4089, 0.02452986662187808), (4090, 0.0028854032225118166), (4091, 0.014481654226792196), (4092, 0.00431243024062756), (4093, 0.004695442828592864), (4094, 0.06388698164349521), (4095, 0.0029575150367362624), (4096, 0.007597743787786371), (4097, 0.010713763916109037), (4098, 0.007296775478513446), (4099, 0.006243994578939645), (4100, 0.03484416910747023), (4101, 0.025103523188058755), (4102, 0.00516580929056105), (4103, 0.007524416318650084), (4104, 0.02487844391319706), (4105, 0.012897907515446099), (4106, 0.005040078732638768), (4107, 0.012102500365675502), (4108, 0.0073671454554614345), (4109, 0.030453081643727696), (4110, 0.018248480005590463), (4111, 0.0030235098178917775), (4112, 0.01765614078051665), (4113, 0.015142060279612424), (4114, 0.020208930477855443), (4115, 0.0), (4116, 0.11037339476676153), (4117, 0.0032500149073675486), (4118, 0.01805556305598384), (4119, 0.010018677730040995), (4120, 0.040484662111334425), (4121, 0.0031135599941079497), (4122, 0.03376845865156175), (4123, 0.026249547352963983), (4124, 0.016259760941337957), (4125, 0.01973012690642026), (4126, 0.013346638304791922), (4127, 0.027061181432307124), (4128, 0.04868169558074551), (4129, 0.01769595362299115), (4130, 0.0287197037100568), (4131, 0.010547013902020494), (4132, 0.017034362328038934), (4133, 0.0036145453253562834), (4134, 0.013902062590162731), (4135, 0.025684246274398394), (4136, 0.0058925792103894994), (4137, 0.017880333173057168), (4138, 0.0), (4139, 0.005113551750840092), (4140, 0.0033384280056070505), (4141, 0.012307923413611907), (4142, 0.03024107815184202), (4143, 0.05150825102465543), (4144, 0.01347812519401088), (4145, 0.0037486601462924465), (4146, 0.09185709984397106), (4147, 0.015248974355128448), (4148, 0.02118066841937209), (4149, 0.010676424318327703), (4150, 0.010686686144361947), (4151, 0.0), (4152, 0.013598434295605102), (4153, 0.004485268429950257), (4154, 0.009003604574075596), (4155, 0.03053822419870387), (4156, 0.03283982858443299), (4157, 0.023749863485839313), (4158, 0.008210347501840064), (4159, 0.00522826937115025), (4160, 0.010915891345829428), (4161, 0.02319327414006419), (4162, 0.010522060351832785), (4163, 0.01057108443848808), (4164, 0.006933672712778611), (4165, 0.05518246272118396), (4166, 0.02196575129493833), (4167, 0.048952725463187664), (4168, 0.02931767651741203), (4169, 0.0034691491648204415), (4170, 0.003252287016843826), (4171, 0.04315277093345757), (4172, 0.014863358180927239), (4173, 0.01677883208000256), (4174, 0.02613488737722846), (4175, 0.06037841520644502), (4176, 0.006471691042414487), (4177, 0.012418831944985626), (4178, 0.022820075812485997), (4179, 0.01984431865664013), (4180, 0.05237522665863391), (4181, 0.05015020825548923), (4182, 0.01561017242081222), (4183, 0.00911401469128738), (4184, 0.007653478819066013), (4185, 0.01350696683860837), (4186, 0.012243172065256207), (4187, 0.024183802966104683), (4188, 0.005933666246008786), (4189, 0.005980441769365672), (4190, 0.00894228271487987), (4191, 0.0), (4192, 0.005655077771931971), (4193, 0.019179787620169697), (4194, 0.01487266500752905), (4195, 0.01660668677219034), (4196, 0.02618492654539274), (4197, 0.007318016502897678), (4198, 0.011460591243963078), (4199, 0.004941400471979985), (4200, 0.004959860878437527), (4201, 0.02981083885181751), (4202, 0.023167630561060013), (4203, 0.06636164963721022), (4204, 0.004049690110905562), (4205, 0.010919640850073149), (4206, 0.012393292541107864), (4207, 0.050587833321374086), (4208, 0.009328798543906829), (4209, 0.03870415353087393), (4210, 0.027443625524124993), (4211, 0.009901260022137566), (4212, 0.003882354816231495), (4213, 0.02867075989414956), (4214, 0.030248291985597905), (4215, 0.00466682217917652), (4216, 0.014313267552726248), (4217, 0.04444842163220099), (4218, 0.004353538730639412), (4219, 0.008311954059611614), (4220, 0.014397004184011018), (4221, 0.026262489836741523), (4222, 0.04413092206636009), (4223, 0.03152379642476684), (4224, 0.04527245341398895), (4225, 0.04061758747430615), (4226, 0.04260757161441255), (4227, 0.008229785241828654), (4228, 0.011166577575474897), (4229, 0.009726379819253207), (4230, 0.011557699264030944), (4231, 0.03624908493068749), (4232, 0.034592072236810746), (4233, 0.05007830843628843), (4234, 0.06779766492831199), (4235, 0.0), (4236, 0.03509502524528685), (4237, 0.016435819056799063), (4238, 0.0), (4239, 0.009941887637710211), (4240, 0.003585410924626385), (4241, 0.017265081867310975), (4242, 0.029364494032387157), (4243, 0.008868960259958408), (4244, 0.0343174032088557), (4245, 0.0378937225262864), (4246, 0.035719000765517345), (4247, 0.0508539118988886), (4248, 0.03532950772241091), (4249, 0.04325688176261396), (4250, 0.009534183605050064), (4251, 0.01218973713083559), (4252, 0.010659446888873129), (4253, 0.013265433337879697), (4254, 0.01369791334391109), (4255, 0.014709008007231603), (4256, 0.028670959115687258), (4257, 0.02950152017792171), (4258, 0.029501260624713418), (4259, 0.005668337319918619), (4260, 0.02510742758778991), (4261, 0.01423804864616884), (4262, 0.004310576409081974), (4263, 0.019206497010950476), (4264, 0.025963805696130816), (4265, 0.034268824765424276), (4266, 0.027038848834587396), (4267, 0.05745138593881501), (4268, 0.022243177394683348), (4269, 0.0037911275131999617), (4270, 0.021590838183420377), (4271, 0.009663160132008594), (4272, 0.029451838220286772), (4273, 0.01466616807380288), (4274, 0.023910382808594758), (4275, 0.02387929695815252), (4276, 0.007759826748169343), (4277, 0.011340092852562614), (4278, 0.009959202682969698), (4279, 0.004480883472616068), (4280, 0.019600088249300717), (4281, 0.0025742027595378014), (4282, 0.01707928441192924), (4283, 0.0041156121971828614), (4284, 0.03918675547416322), (4285, 0.03648582938259136), (4286, 0.012484021327400775), (4287, 0.0050564334793864185), (4288, 0.026662226615973332), (4289, 0.0), (4290, 0.033765659270748635), (4291, 0.02919246591923718), (4292, 0.019940526316966058), (4293, 0.01318464201141745), (4294, 0.01991305225023863), (4295, 0.0605848382045074), (4296, 0.004486772560194633), (4297, 0.013059977889007198), (4298, 0.0), (4299, 0.0), (4300, 0.007754088200794266), (4301, 0.0020307352771745286), (4302, 0.038110393600257794), (4303, 0.034870266466531574), (4304, 0.014735997325823029), (4305, 0.010594776322865918), (4306, 0.061203002772743445), (4307, 0.012790066314009602), (4308, 0.004274348566040857), (4309, 0.0), (4310, 0.008203467703425012), (4311, 0.0058246983264541126), (4312, 0.045905951386426606), (4313, 0.0), (4314, 0.012668110881264814), (4315, 0.028049494710582795), (4316, 0.04303174536412711), (4317, 0.0), (4318, 0.004820066906989819), (4319, 0.023558903064192845), (4320, 0.043929551898793426), (4321, 0.008539153087552409), (4322, 0.0), (4323, 0.0), (4324, 0.008630667793112036), (4325, 0.014646241379140452), (4326, 0.003477842063937756), (4327, 0.0), (4328, 0.004135146432632191), (4329, 0.005254551810786554), (4330, 0.011453163569386816), (4331, 0.006469962932727992), (4332, 0.0), (4333, 0.031749760653068504), (4334, 0.0), (4335, 0.04057435617907595), (4336, 0.10556899400547631), (4337, 0.009344390058590519), (4338, 0.005109103441429807), (4339, 0.029105739697382848), (4340, 0.00864266531729091), (4341, 0.02718974780519052), (4342, 0.008101007555022518), (4343, 0.003133016472814151), (4344, 0.006983272340988927), (4345, 0.0), (4346, 0.015280963846109233), (4347, 0.03778789377504041), (4348, 0.0274946676549366), (4349, 0.017837673010634825), (4350, 0.03001143256126409), (4351, 0.003083052005707268), (4352, 0.04014156470552027), (4353, 0.010635808881899422), (4354, 0.03228258222667242), (4355, 0.0111801162988345), (4356, 0.02306007179204346), (4357, 0.008688164165152848), (4358, 0.00848456672874221), (4359, 0.015542199651495928), (4360, 0.012511810480425236), (4361, 0.012950045517477143), (4362, 0.007382432602783586), (4363, 0.020140143787598215), (4364, 0.04166466897495661), (4365, 0.04888315336625723), (4366, 0.004768196750729378), (4367, 0.05461121637333159), (4368, 0.0697242948269365), (4369, 0.01471632185135487), (4370, 0.058291619684333454), (4371, 0.01325012144916132), (4372, 0.01409891237859397), (4373, 0.010496514198511442), (4374, 0.045869069999099794), (4375, 0.02208458604587182), (4376, 0.0), (4377, 0.006521270101111656), (4378, 0.0100363843659852), (4379, 0.0038502362098759815), (4380, 0.014331789829080175), (4381, 0.03516219561882113), (4382, 0.011135908172066465), (4383, 0.007363233486369796), (4384, 0.008192594418699154), (4385, 0.01296846234707966), (4386, 0.026824825923902073), (4387, 0.009313143837305499), (4388, 0.053503579698886056), (4389, 0.01012821762474524), (4390, 0.014851711625273096), (4391, 0.031022822249906892), (4392, 0.0037571429758445412), (4393, 0.011214311134997164), (4394, 0.03431076050261579), (4395, 0.015241647536157813), (4396, 0.0288762210827222), (4397, 0.009747816702728705), (4398, 0.01024405748091643), (4399, 0.0034945823113670133), (4400, 0.0), (4401, 0.014016538635858892), (4402, 0.036233922507560495), (4403, 0.035200230845837344), (4404, 0.04533967509774579), (4405, 0.0), (4406, 0.015612864505958432), (4407, 0.031205285879069903), (4408, 0.06075653031968176), (4409, 0.0055419411216007745), (4410, 0.024056631824791862), (4411, 0.014761239225073892), (4412, 0.011025967299173354), (4413, 0.009878387720270766), (4414, 0.02784767023625575), (4415, 0.00967999296654345), (4416, 0.006393215832160244), (4417, 0.02666583995242893), (4418, 0.08385400635570613), (4419, 0.011833172247288998), (4420, 0.0248804479258705), (4421, 0.025492740701175156), (4422, 0.03196062131741864), (4423, 0.028894663764625052), (4424, 0.06610563795173369), (4425, 0.017401866864888087), (4426, 0.0), (4427, 0.0), (4428, 0.014732615588865204), (4429, 0.03335028413628877), (4430, 0.01303432114275167), (4431, 0.03945058657342571), (4432, 0.04043667592179406), (4433, 0.04755158437042423), (4434, 0.052461077000382675), (4435, 0.015626720344550513), (4436, 0.04420354199518344), (4437, 0.0), (4438, 0.02686696056213509), (4439, 0.021160225819415464), (4440, 0.010466684034666144), (4441, 0.05175392904512925), (4442, 0.04679665982340962), (4443, 0.012066366856751368), (4444, 0.026791104430302266), (4445, 0.0), (4446, 0.0058208296042695715), (4447, 0.10042893901261458), (4448, 0.0035742116274531453), (4449, 0.0), (4450, 0.008604166580740565), (4451, 0.0), (4452, 0.0), (4453, 0.025745541538065617), (4454, 0.11968886931696614), (4455, 0.03817072317568722), (4456, 0.03643580382669292), (4457, 0.02302134484965467), (4458, 0.003965578335486805), (4459, 0.010418272514821053), (4460, 0.05339650850378634), (4461, 0.0), (4462, 0.01932688534497713), (4463, 0.006489826410710153), (4464, 0.006899446278388681), (4465, 0.01527954556158941), (4466, 0.0034235531659446974), (4467, 0.07596573923851321), (4468, 0.04199627726155614), (4469, 0.009468093539462073), (4470, 0.006367650957567783), (4471, 0.02247831766467088), (4472, 0.008259861732748678), (4473, 0.010208203449648814), (4474, 0.005736915823377279), (4475, 0.019307921335310507), (4476, 0.014726417278817445), (4477, 0.05399150682387572), (4478, 0.03422073392327936), (4479, 0.008027701311581795), (4480, 0.009795326943879067), (4481, 0.006120562678960343), (4482, 0.014503605335928281), (4483, 0.028175765408742538), (4484, 0.009175897707424161), (4485, 0.02266829274330391), (4486, 0.022497115214556572), (4487, 0.007326528337979008), (4488, 0.04137118228066847), (4489, 0.02314994668221755), (4490, 0.00981843801820791), (4491, 0.0027781384279160297), (4492, 0.0050424248644593975), (4493, 0.02653271167385669), (4494, 0.01747100900272356), (4495, 0.010129876483854177), (4496, 0.010782889346940515), (4497, 0.038732122538984025), (4498, 0.04494390372906425), (4499, 0.009662425133915799), (4500, 0.007512319124015274), (4501, 0.048837728670354456), (4502, 0.02698322564912464), (4503, 0.02179206798685912), (4504, 0.002427293689956226), (4505, 0.028891007513718116), (4506, 0.045963426594559424), (4507, 0.005584378476313253), (4508, 0.005071266120199207), (4509, 0.024407567344763226), (4510, 0.0021950053213464723), (4511, 0.038220879353650185), (4512, 0.01665254761283531), (4513, 0.03631862942476246), (4514, 0.008889046734410497), (4515, 0.004497071981220464), (4516, 0.002476136017322801), (4517, 0.02059751969088349), (4518, 0.04017921939463095), (4519, 0.02320701547652658), (4520, 0.0), (4521, 0.0), (4522, 0.010628915342331048), (4523, 0.02690078970705465), (4524, 0.012203731516008773), (4525, 0.021515543283746795), (4526, 0.047116140723716504), (4527, 0.004339433009613446), (4528, 0.02048029799673334), (4529, 0.05421221793134811), (4530, 0.0), (4531, 0.025620402298027416), (4532, 0.03708804633179455), (4533, 0.0), (4534, 0.07129533837573158), (4535, 0.0), (4536, 0.0), (4537, 0.0), (4538, 0.0), (4539, 0.008910710963760901), (4540, 0.023597834111631747), (4541, 0.005830885439775251), (4542, 0.0045268817613246266), (4543, 0.01345198648210983), (4544, 0.008794439688915627), (4545, 0.022102634452567167), (4546, 0.0), (4547, 0.024873336629338536), (4548, 0.01636217902047528), (4549, 0.0296879241192934), (4550, 0.005274011005248016), (4551, 0.004143367851403963), (4552, 0.006529829888014994), (4553, 0.0), (4554, 0.0), (4555, 0.017888877673356562), (4556, 0.006055979762375967), (4557, 0.006752905705871077), (4558, 0.013582650237378598), (4559, 0.023567412588522088), (4560, 0.00500004116783675), (4561, 0.014674734876109256), (4562, 0.008458885480295822), (4563, 0.016496693159663928), (4564, 0.03546820190770036), (4565, 0.06356519007803581), (4566, 0.004759934378297319), (4567, 0.012138795139436435), (4568, 0.01286602222341356), (4569, 0.008601996137235356), (4570, 0.005741258078076929), (4571, 0.0045221170551705565), (4572, 0.008377876090195871), (4573, 0.014312925801400613), (4574, 0.025272514872063546), (4575, 0.007249998921866811), (4576, 0.058729944354565064), (4577, 0.057980531792898), (4578, 0.005449147445295032), (4579, 0.05309288495505566), (4580, 0.006283380664667496), (4581, 0.009440104123654489), (4582, 0.01385780166791378), (4583, 0.05544519758350615), (4584, 0.015908052736213783), (4585, 0.05384644432502024), (4586, 0.005179910683753891), (4587, 0.011005558279512303), (4588, 0.023790543188607526), (4589, 0.005600824582453579), (4590, 0.0032500021484680296), (4591, 0.0), (4592, 0.026900278711062243), (4593, 0.007458904148181572), (4594, 0.02617933590684019), (4595, 0.041316545459910856), (4596, 0.0), (4597, 0.00446243134277665), (4598, 0.0), (4599, 0.005853686246771441), (4600, 0.022767304126417448), (4601, 0.004779548007085119), (4602, 0.031264223101537286), (4603, 0.02016910795982306), (4604, 0.03692888313639745), (4605, 0.00777266925811705), (4606, 0.008815171936203077), (4607, 0.0324529779362125), (4608, 0.01875633011212833), (4609, 0.0), (4610, 0.0), (4611, 0.0103581496811079), (4612, 0.02452910806963266), (4613, 0.005687207528551209), (4614, 0.002727913251172895), (4615, 0.013654755534470214), (4616, 0.04628886917464994), (4617, 0.0), (4618, 0.025151303300863185), (4619, 0.010875352925317681), (4620, 0.031034455044730746), (4621, 0.003141136564656832), (4622, 0.0026380387404956076), (4623, 0.016427878005891947), (4624, 0.013918805172262462), (4625, 0.03223939984258025), (4626, 0.012257820253277058), (4627, 0.026983649762770574), (4628, 0.027220802859225436), (4629, 0.012452030362922351), (4630, 0.00972291755086725), (4631, 0.03228068652525797), (4632, 0.04936581587920732), (4633, 0.01091868264629264), (4634, 0.024478213784088692), (4635, 0.06537561499176173), (4636, 0.029990945045840434), (4637, 0.0439932265569649), (4638, 0.004523579100098631), (4639, 0.0032983500661246516), (4640, 0.02421070423485181), (4641, 0.0032657017017819357), (4642, 0.007513497510695668), (4643, 0.0060468379163862995), (4644, 0.008983632906252837), (4645, 0.04897901966022606), (4646, 0.0), (4647, 0.003051821142825942), (4648, 0.007341504672191963), (4649, 0.0034904531215221267), (4650, 0.003837796352861711), (4651, 0.036822849555143464), (4652, 0.008924207424123795), (4653, 0.0369812195869174), (4654, 0.01137413094430582), (4655, 0.04087926353638571), (4656, 0.007805356896914478), (4657, 0.02935636663954679), (4658, 0.021797345252955846), (4659, 0.011292934140097157), (4660, 0.0), (4661, 0.004400732044038723), (4662, 0.004838813556030173), (4663, 0.011386728040918498), (4664, 0.007371569989973973), (4665, 0.007194790749926205), (4666, 0.028021875069387546), (4667, 0.0), (4668, 0.003940012702609291), (4669, 0.02273501104747931), (4670, 0.009178252365579048), (4671, 0.02660443433588963), (4672, 0.0825733290184492), (4673, 0.016352557358467218), (4674, 0.008285774375888054), (4675, 0.009305496001171483), (4676, 0.01922529774726335), (4677, 0.011986286389255455), (4678, 0.03151892013146306), (4679, 0.0188901876698382), (4680, 0.030589745962823673), (4681, 0.0036066115762079633), (4682, 0.016731762192063362), (4683, 0.020300756327667636), (4684, 0.009565664212584875), (4685, 0.0070119345861092575), (4686, 0.007358955239866625), (4687, 0.028781509403993065), (4688, 0.003280554447717524), (4689, 0.027087380903200772), (4690, 0.05071490297357823), (4691, 0.009718603616060587), (4692, 0.05082082230533828), (4693, 0.005147201627195016), (4694, 0.008492199904663565), (4695, 0.015452706905781616), (4696, 0.029864791051562558), (4697, 0.013066270300158625), (4698, 0.009757072893246666), (4699, 0.03087805032331082), (4700, 0.004004692530151943), (4701, 0.0), (4702, 0.07878441439432445), (4703, 0.02493596075271281), (4704, 0.008695301268910865), (4705, 0.038502657813730086), (4706, 0.011941755314355776), (4707, 0.008536582275317065), (4708, 0.00525789022709223), (4709, 0.014776958889778223), (4710, 0.014912270295578994), (4711, 0.015192447619155301), (4712, 0.02100610774123298), (4713, 0.01383344465723241), (4714, 0.007198982605033199), (4715, 0.005365540526632705), (4716, 0.04445786920763319), (4717, 0.00384036983827075), (4718, 0.003653849384696051), (4719, 0.005317986651412308), (4720, 0.03623962418101433), (4721, 0.003512620561608287), (4722, 0.0033205682836919483), (4723, 0.009860304074867347), (4724, 0.07082467689474807), (4725, 0.05179537714338809), (4726, 0.011161639813890938), (4727, 0.0), (4728, 0.02861819494929941), (4729, 0.03153199622279317), (4730, 0.0030350392237039414), (4731, 0.035163474234587114), (4732, 0.03075942392564955), (4733, 0.03144709901204457), (4734, 0.02962699946353971), (4735, 0.0), (4736, 0.02141383286588249), (4737, 0.008669046254890532), (4738, 0.05995491404037909), (4739, 0.05836839314741911), (4740, 0.007908877960430476), (4741, 0.005840030672666234), (4742, 0.0), (4743, 0.09432853016997392), (4744, 0.03209644805459125), (4745, 0.04731087754382745), (4746, 0.0030894780084538636), (4747, 0.03817340077176689), (4748, 0.012739843167370854), (4749, 0.012260312320721512), (4750, 0.016130890621940955), (4751, 0.07218381438540494), (4752, 0.0027468932970380615), (4753, 0.0035740529600223107), (4754, 0.005294454504314753), (4755, 0.029367446977253516), (4756, 0.02890880005768011), (4757, 0.030808988951123835), (4758, 0.0691287369008263), (4759, 0.011299218198115572), (4760, 0.006059457420020849), (4761, 0.0), (4762, 0.047233847785043345), (4763, 0.0), (4764, 0.005218087231479122), (4765, 0.006422524892045052), (4766, 0.0), (4767, 0.007494511536335007), (4768, 0.03387317091646458), (4769, 0.013079885824608981), (4770, 0.01622803811730606), (4771, 0.009816272634957143), (4772, 0.0076977833801456005), (4773, 0.010733778645697306), (4774, 0.03309188876287157), (4775, 0.0385376991512042), (4776, 0.015928082675678648), (4777, 0.0830741603366542), (4778, 0.05987550119088397), (4779, 0.004044748873869524), (4780, 0.02295930080625429), (4781, 0.05335427368287872), (4782, 0.01449832796160147), (4783, 0.0), (4784, 0.016125122687704323), (4785, 0.007888462720001446), (4786, 0.005040534802515014), (4787, 0.03372851870277857), (4788, 0.006833234963618457), (4789, 0.02386561959076702), (4790, 0.041933436905587214), (4791, 0.03715261308412911), (4792, 0.08270313753004949), (4793, 0.0037534687924770877), (4794, 0.03654528562134827), (4795, 0.024993010235743383), (4796, 0.005078079096569808), (4797, 0.0456613976304966), (4798, 0.04117383990961849), (4799, 0.0038040922628579253), (4800, 0.013820174263853152), (4801, 0.0035044588129905935), (4802, 0.011476662021239002), (4803, 0.0), (4804, 0.025920744948425823), (4805, 0.0), (4806, 0.009839223113357241), (4807, 0.0), (4808, 0.03181890021147842), (4809, 0.052344794682061824), (4810, 0.0), (4811, 0.03457287566577992), (4812, 0.05217008399608311), (4813, 0.017682259153879436), (4814, 0.015090411090424801), (4815, 0.0043532103108589355), (4816, 0.005114175508966649), (4817, 0.0), (4818, 0.0034107203866745217), (4819, 0.0), (4820, 0.06657181371925755), (4821, 0.0743590169527568), (4822, 0.022170691895051917), (4823, 0.0), (4824, 0.04120272741367895), (4825, 0.025194446082013648), (4826, 0.021771201270414115), (4827, 0.0), (4828, 0.007647827408907069), (4829, 0.06404417064808184), (4830, 0.0), (4831, 0.0), (4832, 0.0), (4833, 0.0029580795090370015), (4834, 0.0035169590901204246), (4835, 0.0), (4836, 0.05538026301880135), (4837, 0.028777584169863188), (4838, 0.012346614790883184), (4839, 0.00354850480736559), (4840, 0.00578142174498246), (4841, 0.031764504481294295), (4842, 0.0037040647065333), (4843, 0.014030834061450018), (4844, 0.0043199275037756), (4845, 0.003713430983933194), (4846, 0.012651577492582045), (4847, 0.01178374671847161), (4848, 0.005219129085063174), (4849, 0.04877848312795426), (4850, 0.006107335407696883), (4851, 0.035755727384817), (4852, 0.04091985012751311), (4853, 0.014732422074780824), (4854, 0.004084143865306446), (4855, 0.06213382150883876), (4856, 0.01061492220393324), (4857, 0.012234412559482766), (4858, 0.01176345539790738), (4859, 0.0032717614528124227), (4860, 0.013024704607715518), (4861, 0.007778982039293936), (4862, 0.005839270235632304), (4863, 0.003757732853366141), (4864, 0.02554204419020685), (4865, 0.039668197864789395), (4866, 0.006916314696016508), (4867, 0.009153518933488161), (4868, 0.03272336527247184), (4869, 0.07050584905319843), (4870, 0.0051152485944955615), (4871, 0.016204181444765632), (4872, 0.0), (4873, 0.012441451810414401), (4874, 0.00778566761111634), (4875, 0.0517451409949396), (4876, 0.03204974786070932), (4877, 0.0047406674909499244), (4878, 0.014041038360533675), (4879, 0.00831691768691367), (4880, 0.048072102832929085), (4881, 0.03083642044122891), (4882, 0.005548108112731639), (4883, 0.011905592193781997), (4884, 0.010569451243941633), (4885, 0.010722409477383905), (4886, 0.012187215300254827), (4887, 0.0032047686360542832), (4888, 0.008716329113500083), (4889, 0.027948001802244084), (4890, 0.00568501282984754), (4891, 0.005810376269995922), (4892, 0.025895645941374223), (4893, 0.0035154779762641072), (4894, 0.020712423428054294), (4895, 0.016322487302897065), (4896, 0.023060027120640914), (4897, 0.006687929237964439), (4898, 0.007877728292784793), (4899, 0.007801590425584914), (4900, 0.029455761719251735), (4901, 0.0034039665919589697), (4902, 0.03847967640387675), (4903, 0.049524694993982786), (4904, 0.029151051420040118), (4905, 0.007068351986925907), (4906, 0.005343403850669215), (4907, 0.005572284229517238), (4908, 0.03347579149336989), (4909, 0.025174622922455994), (4910, 0.00435476242457223), (4911, 0.002919095388617175), (4912, 0.01805768304589799), (4913, 0.01283491576999736), (4914, 0.03579257535411804), (4915, 0.0), (4916, 0.0028193521683305273), (4917, 0.02340037050754062), (4918, 0.020280366838870023), (4919, 0.008528677789537644), (4920, 0.020371945648023533), (4921, 0.010897839157115985), (4922, 0.01289126939672747), (4923, 0.018321659741631358), (4924, 0.017551976225929324), (4925, 0.009775274494802118), (4926, 0.004583656546137485), (4927, 0.011281234132532602), (4928, 0.009380303675115248), (4929, 0.002634305720011694), (4930, 0.0), (4931, 0.007268285728851046), (4932, 0.05052174037923859), (4933, 0.009470460152741713), (4934, 0.0), (4935, 0.01860885772175125), (4936, 0.008975510530211015), (4937, 0.028402825500046414), (4938, 0.006038158408051815), (4939, 0.007508061311739177), (4940, 0.004017439310437014), (4941, 0.0), (4942, 0.030351445710886354), (4943, 0.012582732704988074), (4944, 0.0034181826225368308), (4945, 0.011400837375731603), (4946, 0.02756528140086838), (4947, 0.01152871492128495), (4948, 0.012235259409161689), (4949, 0.004170270926877902), (4950, 0.0), (4951, 0.04279501288652346), (4952, 0.030343632061560308), (4953, 0.0), (4954, 0.0462906220444382), (4955, 0.009352517791772218), (4956, 0.014517601069776386), (4957, 0.016025731350849778), (4958, 0.00694217604154309), (4959, 0.021598607828176727), (4960, 0.05096169529881968), (4961, 0.010054115018067359), (4962, 0.011551700833662963), (4963, 0.04618035694683268), (4964, 0.0), (4965, 0.0031346847872426335), (4966, 0.007938690158802587), (4967, 0.0052531109296996385), (4968, 0.009667975348756332), (4969, 0.006484889705327856), (4970, 0.036281751152775515), (4971, 0.0049615878530638365), (4972, 0.08316910461362048), (4973, 0.0159920955219375), (4974, 0.003835939729283807), (4975, 0.005213307979472146), (4976, 0.0), (4977, 0.03539250851764149), (4978, 0.03959959869381903), (4979, 0.022346631896011056), (4980, 0.013474947713782076), (4981, 0.010543382611930462), (4982, 0.007797748795991804), (4983, 0.008221245840062123), (4984, 0.007802235761411745), (4985, 0.02767303801037186), (4986, 0.07890215661015905), (4987, 0.023695376930741828), (4988, 0.024011393954543776), (4989, 0.0026152830502523122), (4990, 0.03818384891120328), (4991, 0.005638019899478583), (4992, 0.07408839934119421), (4993, 0.0), (4994, 0.013461549676258858), (4995, 0.005945819838648248), (4996, 0.015898269179010077), (4997, 0.0085584256344098), (4998, 0.03712374017413922), (4999, 0.07559870493382335)]\n",
            "[(34, 0.20537772348369016), (2560, 0.17780510161990676), (371, 0.14974193451820264), (1407, 0.14361121318636294), (1959, 0.14319831541221129), (979, 0.1406637244235625), (1399, 0.12818151338404096), (325, 0.127182042409492), (3979, 0.12700901279193202), (1247, 0.12464997850960466)]\n",
            "[34, 2560, 371, 1407, 1959, 979, 1399, 325, 3979, 1247]\n"
          ]
        },
        {
          "output_type": "execute_result",
          "data": {
            "text/plain": [
              "34           Envolve 2011 Sauvignon Blanc (Sonoma Valley)\n",
              "2560     Waipara Hills 2014 Sauvignon Blanc (Marlborough)\n",
              "371     Elena Walch 2002 Castel Ringberg Sauvignon Bla...\n",
              "1407               Nals Margreid 2014 Kerner (Alto Adige)\n",
              "1959                  Tarara 2010 Nevaeh White (Virginia)\n",
              "979     Château Lamothe-Vincent 2008 Sauvignon  (Borde...\n",
              "1399                  Caldaro 2014 Sauvignon (Alto Adige)\n",
              "325          Lucas Vineyards 2007 Vignoles (Finger Lakes)\n",
              "3979    Saint Clair 2007 Vicar's Choice Sauvignon Blan...\n",
              "1247    Rietvallei Estate Wine 2008 Sauvignon Blanc (R...\n",
              "Name: title, dtype: object"
            ]
          },
          "metadata": {},
          "execution_count": 44
        }
      ]
    }
  ]
}